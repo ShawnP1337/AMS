{
 "cells": [
  {
   "cell_type": "code",
   "execution_count": 53,
   "id": "448c64fc",
   "metadata": {},
   "outputs": [],
   "source": [
    "#plot sentiment to home ownership vs house price vs regular price rise\n",
    "import pandas as pd\n",
    "import os \n",
    "import altair as alt\n",
    "from sklearn.preprocessing import StandardScaler\n",
    "import numpy as np\n",
    "from sklearn.decomposition import PCA"
   ]
  },
  {
   "cell_type": "code",
   "execution_count": 2,
   "id": "b21fa6b1",
   "metadata": {},
   "outputs": [],
   "source": [
    "datapath = \"C:\\\\Users\\\\awyat049\\\\OneDrive\\\\Documents\\\\Coding\\\\2022_12_05_Final_Data_ComboScore\"\n",
    "os.chdir(datapath)"
   ]
  },
  {
   "cell_type": "code",
   "execution_count": null,
   "id": "b1c6f7e9",
   "metadata": {},
   "outputs": [],
   "source": [
    "inflation = pd.read_csv('inflation_sentiment.csv')\n",
    "# IMPORT THIS FIRST"
   ]
  },
  {
   "cell_type": "code",
   "execution_count": 8,
   "id": "bc6cab71",
   "metadata": {},
   "outputs": [],
   "source": [
    "# read in all terms\n",
    "\n",
    "#inflation = pd.read_csv('inflation_sentiment.csv') # UNCOMMENT THIS FOR INFLATION -- too big for testing\n",
    "\n",
    "affordable_housing = pd.read_csv('affordable_housing_sentiment.csv')\n",
    "cost_of_living = pd.read_csv('cost_of_living_sentiment.csv')\n",
    "foreign_buyer_ban = pd.read_csv('foreign_buyer_ban_sentiment.csv')\n",
    "foreign_buyer = pd.read_csv('Foreign_Buyer_sentiment.csv')\n",
    "foreign_home_buyer = pd.read_csv('foreign_home_buyer_sentiment.csv')\n",
    "\n"
   ]
  },
  {
   "cell_type": "code",
   "execution_count": 7,
   "id": "f562740f",
   "metadata": {},
   "outputs": [],
   "source": [
    "foreign_investors = pd.read_csv('foreign_investors_sentiment.csv')\n",
    "freedom_convoy = pd.read_csv('Freedom_Convoy_sentiment.csv')\n",
    "generational_wealth = pd.read_csv('Generational_Wealth_sentiment.csv')\n",
    "home_owner = pd.read_csv('home_owner_sentiment.csv')\n",
    "housing_crisis = pd.read_csv('housing_crisis_sentiment.csv')\n",
    "housing_market = pd.read_csv('housing_market_sentiment.csv')\n"
   ]
  },
  {
   "cell_type": "code",
   "execution_count": 6,
   "id": "a56f7dc2",
   "metadata": {},
   "outputs": [],
   "source": [
    "increase_of_prices = pd.read_csv('Increase_of_prices_sentiment.csv')\n",
    "increase_prices_home = pd.read_csv('increase_prices_home_sentiment.csv')\n",
    "increase_prices_housing = pd.read_csv('increase_prices_housing_sentiment.csv')\n",
    "increase_price_home = pd.read_csv('increase_price_home_sentiment.csv')\n",
    "increase_price_housing = pd.read_csv('increase_price_housing_sentiment.csv')\n",
    "interest_rate_home = pd.read_csv('interest_rate_home_sentiment.csv')\n",
    "interest_rate_housing = pd.read_csv('interest_rate_housing_sentiment.csv')\n"
   ]
  },
  {
   "cell_type": "code",
   "execution_count": 5,
   "id": "db691efb",
   "metadata": {},
   "outputs": [],
   "source": [
    "low_income_housing = pd.read_csv('low_income_housing_sentiment.csv')\n",
    "minimum_wage = pd.read_csv('minimum_wage_sentiment.csv')\n",
    "property_tax_canada = pd.read_csv('property_tax_canada_sentiment.csv')\n",
    "rental_market = pd.read_csv('rental_market_sentiment.csv')\n"
   ]
  },
  {
   "cell_type": "code",
   "execution_count": 4,
   "id": "8e1492fa",
   "metadata": {},
   "outputs": [],
   "source": [
    "rising_prices_home = pd.read_csv('rising_prices_home_sentiment.csv')\n",
    "rising_prices_housing = pd.read_csv('rising_prices_housing_sentiment.csv')\n",
    "rising_prices = pd.read_csv('Rising_prices_sentiment.csv')\n",
    "rising_price_home = pd.read_csv('rising_price_home_sentiment.csv')\n",
    "rising_price_housing = pd.read_csv('rising_price_housing_sentiment.csv')\n",
    "social_assistance = pd.read_csv('social_assistance_sentiment.csv')\n",
    "standard_of_living = pd.read_csv('standard_of_living_sentiment.csv')"
   ]
  },
  {
   "cell_type": "code",
   "execution_count": 9,
   "id": "cc7b3311",
   "metadata": {},
   "outputs": [],
   "source": [
    "# isolate compound_score\n",
    "\n",
    "#inflation_sent = inflation[['compound_score','topic', 'period']] # UNCOMMENT THIS FOR INFLATION -- too big for testing\n",
    "affordable_housing_sent = affordable_housing[['compound_score','topic', 'period']]\n",
    "cost_of_living_sent = cost_of_living[['compound_score','topic', 'period']]\n",
    "foreign_buyer_ban_sent = foreign_buyer_ban[['compound_score','topic', 'period']]\n",
    "foreign_buyer_sent = foreign_buyer[['compound_score','topic', 'period']]\n",
    "foreign_home_buyer_sent = foreign_home_buyer[['compound_score','topic', 'period']]\n",
    "foreign_investors_sent = foreign_investors[['compound_score','topic', 'period']]\n",
    "freedom_convoy_sent = freedom_convoy[['compound_score','topic', 'period']]\n",
    "generational_wealth_sent = generational_wealth[['compound_score','topic', 'period']]\n",
    "home_owner_sent = home_owner[['compound_score','topic', 'period']]\n",
    "housing_crisis_sent = housing_crisis[['compound_score','topic', 'period']]\n",
    "housing_market_sent = housing_market[['compound_score','topic', 'period']]\n",
    "increase_of_prices_sent = increase_of_prices[['compound_score','topic', 'period']]\n",
    "increase_prices_home_sent = increase_prices_home[['compound_score','topic', 'period']]\n",
    "increase_prices_housing_sent = increase_prices_housing[['compound_score','topic', 'period']]\n",
    "increase_price_home_sent = increase_price_home[['compound_score','topic', 'period']]\n",
    "increase_price_housing_sent = increase_price_housing[['compound_score','topic', 'period']]\n",
    "interest_rate_home_sent = interest_rate_home[['compound_score','topic', 'period']]\n",
    "interest_rate_housing_sent = interest_rate_housing[['compound_score','topic', 'period']]\n",
    "low_income_housing_sent = low_income_housing[['compound_score','topic', 'period']]\n",
    "minimum_wage_sent = minimum_wage[['compound_score','topic', 'period']]\n",
    "property_tax_canada_sent = property_tax_canada[['compound_score','topic', 'period']]\n",
    "rental_market_sent = rental_market[['compound_score','topic', 'period']]\n",
    "rising_prices_home_sent = rising_prices_home[['compound_score','topic', 'period']]\n",
    "rising_prices_housing_sent = rising_prices_housing[['compound_score','topic', 'period']]\n",
    "rising_prices_sent = rising_prices[['compound_score','topic', 'period']]\n",
    "rising_price_home_sent = rising_price_home[['compound_score','topic', 'period']]\n",
    "rising_price_housing_sent = rising_price_housing[['compound_score','topic', 'period']]\n",
    "social_assistance_sent = social_assistance[['compound_score','topic', 'period']]\n",
    "standard_of_living_sent = standard_of_living[['compound_score','topic', 'period']]"
   ]
  },
  {
   "cell_type": "code",
   "execution_count": 1,
   "id": "2d5bd3ce",
   "metadata": {},
   "outputs": [
    {
     "ename": "NameError",
     "evalue": "name 'inflation' is not defined",
     "output_type": "error",
     "traceback": [
      "\u001b[1;31m---------------------------------------------------------------------------\u001b[0m",
      "\u001b[1;31mNameError\u001b[0m                                 Traceback (most recent call last)",
      "\u001b[1;32m~\\AppData\\Local\\Temp\\ipykernel_7392\\695071783.py\u001b[0m in \u001b[0;36m<module>\u001b[1;34m\u001b[0m\n\u001b[1;32m----> 1\u001b[1;33m \u001b[0minflation_sent\u001b[0m \u001b[1;33m=\u001b[0m \u001b[0minflation\u001b[0m\u001b[1;33m[\u001b[0m\u001b[1;33m[\u001b[0m\u001b[1;34m'compound_score'\u001b[0m\u001b[1;33m,\u001b[0m\u001b[1;34m'topic'\u001b[0m\u001b[1;33m,\u001b[0m \u001b[1;34m'period'\u001b[0m\u001b[1;33m]\u001b[0m\u001b[1;33m]\u001b[0m\u001b[1;33m\u001b[0m\u001b[1;33m\u001b[0m\u001b[0m\n\u001b[0m",
      "\u001b[1;31mNameError\u001b[0m: name 'inflation' is not defined"
     ]
    }
   ],
   "source": [
    "inflation_sent = inflation[['compound_score','topic', 'period']]"
   ]
  },
  {
   "cell_type": "code",
   "execution_count": 124,
   "id": "03030760",
   "metadata": {},
   "outputs": [],
   "source": [
    "# isolate compound_score\n",
    "\n",
    "affordable_housing_sent_g = affordable_housing_sent.groupby('period').agg({'compound_score': 'mean', 'topic': 'first'}).reset_index()\n",
    "cost_of_living_sent_g = cost_of_living_sent.groupby('period').agg({'compound_score': 'mean', 'topic': 'first'}).reset_index()\n",
    "foreign_buyer_ban_sent_g = foreign_buyer_ban_sent.groupby('period').agg({'compound_score': 'mean', 'topic': 'first'}).reset_index()\n",
    "foreign_buyer_sent_g = foreign_buyer_sent.groupby('period').agg({'compound_score': 'mean', 'topic': 'first'}).reset_index()\n",
    "foreign_home_buyer_sent_g = foreign_home_buyer_sent.groupby('period').agg({'compound_score': 'mean', 'topic': 'first'}).reset_index()\n",
    "foreign_investors_sent_g = foreign_investors_sent.groupby('period').agg({'compound_score': 'mean', 'topic': 'first'}).reset_index()\n",
    "freedom_convoy_sent_g = freedom_convoy_sent.groupby('period').agg({'compound_score': 'mean', 'topic': 'first'}).reset_index()\n",
    "generational_wealth_sent_g = generational_wealth_sent.groupby('period').agg({'compound_score': 'mean', 'topic': 'first'}).reset_index()\n",
    "home_owner_sent_g = home_owner_sent.groupby('period').agg({'compound_score': 'mean', 'topic': 'first'}).reset_index()\n",
    "housing_crisis_sent_g = housing_crisis_sent.groupby('period').agg({'compound_score': 'mean', 'topic': 'first'}).reset_index()\n",
    "housing_market_sent_g = housing_market_sent.groupby('period').agg({'compound_score': 'mean', 'topic': 'first'}).reset_index()\n",
    "increase_of_prices_sent_g = increase_of_prices_sent.groupby('period').agg({'compound_score': 'mean', 'topic': 'first'}).reset_index()\n",
    "increase_prices_home_sent_g = increase_prices_home_sent.groupby('period').agg({'compound_score': 'mean', 'topic': 'first'}).reset_index()\n",
    "increase_prices_housing_sent_g = increase_prices_housing_sent.groupby('period').agg({'compound_score': 'mean', 'topic': 'first'}).reset_index()\n",
    "increase_price_home_sent_g = increase_price_home_sent.groupby('period').agg({'compound_score': 'mean', 'topic': 'first'}).reset_index()\n",
    "increase_price_housing_sent_g = increase_price_housing_sent.groupby('period').agg({'compound_score': 'mean', 'topic': 'first'}).reset_index()\n",
    "interest_rate_home_sent_g = interest_rate_home_sent.groupby('period').agg({'compound_score': 'mean', 'topic': 'first'}).reset_index()\n",
    "interest_rate_housing_sent_g = interest_rate_housing_sent.groupby('period').agg({'compound_score': 'mean', 'topic': 'first'}).reset_index()\n",
    "low_income_housing_sent_g = low_income_housing_sent.groupby('period').agg({'compound_score': 'mean', 'topic': 'first'}).reset_index()\n",
    "minimum_wage_sent_g = minimum_wage_sent.groupby('period').agg({'compound_score': 'mean', 'topic': 'first'}).reset_index()\n",
    "property_tax_canada_sent_g = property_tax_canada_sent.groupby('period').agg({'compound_score': 'mean', 'topic': 'first'}).reset_index()\n",
    "rental_market_sent_g = rental_market_sent.groupby('period').agg({'compound_score': 'mean', 'topic': 'first'}).reset_index()\n",
    "rising_prices_home_sent_g = rising_prices_home_sent.groupby('period').agg({'compound_score': 'mean', 'topic': 'first'}).reset_index()\n",
    "rising_prices_housing_sent_g = rising_prices_housing_sent.groupby('period').agg({'compound_score': 'mean', 'topic': 'first'}).reset_index()\n",
    "rising_prices_sent_g = rising_prices_sent.groupby('period').agg({'compound_score': 'mean', 'topic': 'first'}).reset_index()\n",
    "rising_price_home_sent_g = rising_price_home_sent.groupby('period').agg({'compound_score': 'mean', 'topic': 'first'}).reset_index()\n",
    "rising_price_housing_sent_g = rising_price_housing_sent.groupby('period').agg({'compound_score': 'mean', 'topic': 'first'}).reset_index()\n",
    "social_assistance_sent_g = social_assistance_sent.groupby('period').agg({'compound_score': 'mean', 'topic': 'first'}).reset_index()\n",
    "standard_of_living_sent_g = standard_of_living_sent.groupby('period').agg({'compound_score': 'mean', 'topic': 'first'}).reset_index()"
   ]
  },
  {
   "cell_type": "code",
   "execution_count": 125,
   "id": "59bc2bd3",
   "metadata": {},
   "outputs": [],
   "source": [
    "inflation_sent_g = inflation_sent.groupby('period').agg({'compound_score': 'mean', 'topic': 'first'}).reset_index()"
   ]
  },
  {
   "cell_type": "code",
   "execution_count": 126,
   "id": "fadee737",
   "metadata": {},
   "outputs": [],
   "source": [
    "interest_rate_homef = pd.concat((interest_rate_home,interest_rate_housing), axis = 0).reset_index()\n",
    "interest_rate_homef['topic'] = 'interest_rate_home'"
   ]
  },
  {
   "cell_type": "code",
   "execution_count": 127,
   "id": "d8f48093",
   "metadata": {},
   "outputs": [],
   "source": [
    "interest_rate_homef_sent = interest_rate_homef[['compound_score','topic', 'period']]"
   ]
  },
  {
   "cell_type": "code",
   "execution_count": 128,
   "id": "fda52ec6",
   "metadata": {},
   "outputs": [],
   "source": [
    "interest_rate_homef_sent_g = interest_rate_homef_sent.groupby('period').agg({'compound_score': 'mean', 'topic': 'first'}).reset_index()"
   ]
  },
  {
   "cell_type": "code",
   "execution_count": 129,
   "id": "0291f66f",
   "metadata": {},
   "outputs": [],
   "source": [
    "house_price = pd.concat([rising_price_home, rising_price_housing,rising_prices_home, rising_prices_housing,increase_price_home, increase_prices_home, increase_price_housing,increase_prices_housing ], ignore_index = False).reset_index()"
   ]
  },
  {
   "cell_type": "code",
   "execution_count": 130,
   "id": "229cbbb0",
   "metadata": {},
   "outputs": [],
   "source": [
    "rise_price = pd.concat([rising_prices,increase_of_prices], ignore_index = False).reset_index()"
   ]
  },
  {
   "cell_type": "code",
   "execution_count": 131,
   "id": "d0ac3e16",
   "metadata": {},
   "outputs": [],
   "source": [
    "rise_price_g = rise_price.groupby('period').agg({'compound_score': 'mean', 'topic': 'first'}).reset_index()\n",
    "house_price_g = house_price.groupby('period').agg({'compound_score': 'mean', 'topic': 'first'}).reset_index()"
   ]
  },
  {
   "cell_type": "code",
   "execution_count": 132,
   "id": "c9e77466",
   "metadata": {},
   "outputs": [
    {
     "data": {
      "text/html": [
       "<div>\n",
       "<style scoped>\n",
       "    .dataframe tbody tr th:only-of-type {\n",
       "        vertical-align: middle;\n",
       "    }\n",
       "\n",
       "    .dataframe tbody tr th {\n",
       "        vertical-align: top;\n",
       "    }\n",
       "\n",
       "    .dataframe thead th {\n",
       "        text-align: right;\n",
       "    }\n",
       "</style>\n",
       "<table border=\"1\" class=\"dataframe\">\n",
       "  <thead>\n",
       "    <tr style=\"text-align: right;\">\n",
       "      <th></th>\n",
       "      <th>period</th>\n",
       "      <th>compound_score</th>\n",
       "      <th>topic</th>\n",
       "    </tr>\n",
       "  </thead>\n",
       "  <tbody>\n",
       "    <tr>\n",
       "      <th>0</th>\n",
       "      <td>2016-10</td>\n",
       "      <td>0.018129</td>\n",
       "      <td>Rising_prices</td>\n",
       "    </tr>\n",
       "    <tr>\n",
       "      <th>1</th>\n",
       "      <td>2016-11</td>\n",
       "      <td>0.059639</td>\n",
       "      <td>Rising_prices</td>\n",
       "    </tr>\n",
       "    <tr>\n",
       "      <th>2</th>\n",
       "      <td>2016-12</td>\n",
       "      <td>0.048089</td>\n",
       "      <td>Rising_prices</td>\n",
       "    </tr>\n",
       "    <tr>\n",
       "      <th>3</th>\n",
       "      <td>2017-01</td>\n",
       "      <td>0.037580</td>\n",
       "      <td>Rising_prices</td>\n",
       "    </tr>\n",
       "    <tr>\n",
       "      <th>4</th>\n",
       "      <td>2017-02</td>\n",
       "      <td>0.145955</td>\n",
       "      <td>Rising_prices</td>\n",
       "    </tr>\n",
       "    <tr>\n",
       "      <th>...</th>\n",
       "      <td>...</td>\n",
       "      <td>...</td>\n",
       "      <td>...</td>\n",
       "    </tr>\n",
       "    <tr>\n",
       "      <th>68</th>\n",
       "      <td>2022-06</td>\n",
       "      <td>0.035724</td>\n",
       "      <td>Rising_prices</td>\n",
       "    </tr>\n",
       "    <tr>\n",
       "      <th>69</th>\n",
       "      <td>2022-07</td>\n",
       "      <td>0.061807</td>\n",
       "      <td>Rising_prices</td>\n",
       "    </tr>\n",
       "    <tr>\n",
       "      <th>70</th>\n",
       "      <td>2022-08</td>\n",
       "      <td>0.098455</td>\n",
       "      <td>Rising_prices</td>\n",
       "    </tr>\n",
       "    <tr>\n",
       "      <th>71</th>\n",
       "      <td>2022-09</td>\n",
       "      <td>0.089582</td>\n",
       "      <td>Rising_prices</td>\n",
       "    </tr>\n",
       "    <tr>\n",
       "      <th>72</th>\n",
       "      <td>2022-10</td>\n",
       "      <td>0.050677</td>\n",
       "      <td>Rising_prices</td>\n",
       "    </tr>\n",
       "  </tbody>\n",
       "</table>\n",
       "<p>73 rows × 3 columns</p>\n",
       "</div>"
      ],
      "text/plain": [
       "     period  compound_score          topic\n",
       "0   2016-10        0.018129  Rising_prices\n",
       "1   2016-11        0.059639  Rising_prices\n",
       "2   2016-12        0.048089  Rising_prices\n",
       "3   2017-01        0.037580  Rising_prices\n",
       "4   2017-02        0.145955  Rising_prices\n",
       "..      ...             ...            ...\n",
       "68  2022-06        0.035724  Rising_prices\n",
       "69  2022-07        0.061807  Rising_prices\n",
       "70  2022-08        0.098455  Rising_prices\n",
       "71  2022-09        0.089582  Rising_prices\n",
       "72  2022-10        0.050677  Rising_prices\n",
       "\n",
       "[73 rows x 3 columns]"
      ]
     },
     "execution_count": 132,
     "metadata": {},
     "output_type": "execute_result"
    }
   ],
   "source": [
    "rise_price_g"
   ]
  },
  {
   "cell_type": "code",
   "execution_count": 133,
   "id": "845545f3",
   "metadata": {},
   "outputs": [],
   "source": [
    "rise_price_g['topic'] = 'Rising Prices'\n",
    "house_price_g['topic'] = 'Rise in Housing Price'"
   ]
  },
  {
   "cell_type": "code",
   "execution_count": 134,
   "id": "93ae97a5",
   "metadata": {},
   "outputs": [],
   "source": [
    "inflation_rise_house = pd.concat([rise_price_g,house_price_g,inflation_sent_g],ignore_index = False).reset_index()"
   ]
  },
  {
   "cell_type": "code",
   "execution_count": 106,
   "id": "ed5f4ab0",
   "metadata": {},
   "outputs": [
    {
     "data": {
      "text/html": [
       "\n",
       "<div id=\"altair-viz-5100421c32d94bae83de32778147df3e\"></div>\n",
       "<script type=\"text/javascript\">\n",
       "  (function(spec, embedOpt){\n",
       "    let outputDiv = document.currentScript.previousElementSibling;\n",
       "    if (outputDiv.id !== \"altair-viz-5100421c32d94bae83de32778147df3e\") {\n",
       "      outputDiv = document.getElementById(\"altair-viz-5100421c32d94bae83de32778147df3e\");\n",
       "    }\n",
       "    const paths = {\n",
       "      \"vega\": \"https://cdn.jsdelivr.net/npm//vega@5?noext\",\n",
       "      \"vega-lib\": \"https://cdn.jsdelivr.net/npm//vega-lib?noext\",\n",
       "      \"vega-lite\": \"https://cdn.jsdelivr.net/npm//vega-lite@4.8.1?noext\",\n",
       "      \"vega-embed\": \"https://cdn.jsdelivr.net/npm//vega-embed@6?noext\",\n",
       "    };\n",
       "\n",
       "    function loadScript(lib) {\n",
       "      return new Promise(function(resolve, reject) {\n",
       "        var s = document.createElement('script');\n",
       "        s.src = paths[lib];\n",
       "        s.async = true;\n",
       "        s.onload = () => resolve(paths[lib]);\n",
       "        s.onerror = () => reject(`Error loading script: ${paths[lib]}`);\n",
       "        document.getElementsByTagName(\"head\")[0].appendChild(s);\n",
       "      });\n",
       "    }\n",
       "\n",
       "    function showError(err) {\n",
       "      outputDiv.innerHTML = `<div class=\"error\" style=\"color:red;\">${err}</div>`;\n",
       "      throw err;\n",
       "    }\n",
       "\n",
       "    function displayChart(vegaEmbed) {\n",
       "      vegaEmbed(outputDiv, spec, embedOpt)\n",
       "        .catch(err => showError(`Javascript Error: ${err.message}<br>This usually means there's a typo in your chart specification. See the javascript console for the full traceback.`));\n",
       "    }\n",
       "\n",
       "    if(typeof define === \"function\" && define.amd) {\n",
       "      requirejs.config({paths});\n",
       "      require([\"vega-embed\"], displayChart, err => showError(`Error loading script: ${err.message}`));\n",
       "    } else if (typeof vegaEmbed === \"function\") {\n",
       "      displayChart(vegaEmbed);\n",
       "    } else {\n",
       "      loadScript(\"vega\")\n",
       "        .then(() => loadScript(\"vega-lite\"))\n",
       "        .then(() => loadScript(\"vega-embed\"))\n",
       "        .catch(showError)\n",
       "        .then(() => displayChart(vegaEmbed));\n",
       "    }\n",
       "  })({\"config\": {\"view\": {\"continuousWidth\": 400, \"continuousHeight\": 300}}, \"data\": {\"name\": \"data-210b14381a4b270575628f3e02e47c12\"}, \"mark\": \"line\", \"encoding\": {\"color\": {\"type\": \"nominal\", \"field\": \"topic\"}, \"x\": {\"type\": \"ordinal\", \"axis\": {\"title\": \"Time\"}, \"field\": \"period\"}, \"y\": {\"type\": \"quantitative\", \"axis\": {\"title\": \"Average compound sentiment score\"}, \"field\": \"compound_score\", \"scale\": {\"domain\": [-0.2, 0.4]}}}, \"title\": \"Average global score sentiment over the months (2016-2022)\", \"width\": 800, \"$schema\": \"https://vega.github.io/schema/vega-lite/v4.8.1.json\", \"datasets\": {\"data-210b14381a4b270575628f3e02e47c12\": [{\"index\": 0, \"period\": \"2016-10\", \"compound_score\": 0.01812873696407874, \"topic\": \"Rising Prices\"}, {\"index\": 1, \"period\": \"2016-11\", \"compound_score\": 0.05963853970643445, \"topic\": \"Rising Prices\"}, {\"index\": 2, \"period\": \"2016-12\", \"compound_score\": 0.04808850602409599, \"topic\": \"Rising Prices\"}, {\"index\": 3, \"period\": \"2017-01\", \"compound_score\": 0.0375799605850012, \"topic\": \"Rising Prices\"}, {\"index\": 4, \"period\": \"2017-02\", \"compound_score\": 0.14595525557955166, \"topic\": \"Rising Prices\"}, {\"index\": 5, \"period\": \"2017-03\", \"compound_score\": 0.04065671226243776, \"topic\": \"Rising Prices\"}, {\"index\": 6, \"period\": \"2017-04\", \"compound_score\": -0.013236773614538722, \"topic\": \"Rising Prices\"}, {\"index\": 7, \"period\": \"2017-05\", \"compound_score\": 0.04118937508546407, \"topic\": \"Rising Prices\"}, {\"index\": 8, \"period\": \"2017-06\", \"compound_score\": 0.03421073363596407, \"topic\": \"Rising Prices\"}, {\"index\": 9, \"period\": \"2017-07\", \"compound_score\": 0.13471843007447837, \"topic\": \"Rising Prices\"}, {\"index\": 10, \"period\": \"2017-08\", \"compound_score\": 0.04174397911832983, \"topic\": \"Rising Prices\"}, {\"index\": 11, \"period\": \"2017-09\", \"compound_score\": 0.030141275426058177, \"topic\": \"Rising Prices\"}, {\"index\": 12, \"period\": \"2017-10\", \"compound_score\": 0.040777267355982263, \"topic\": \"Rising Prices\"}, {\"index\": 13, \"period\": \"2017-11\", \"compound_score\": 0.06344115015974423, \"topic\": \"Rising Prices\"}, {\"index\": 14, \"period\": \"2017-12\", \"compound_score\": 0.07665388328214104, \"topic\": \"Rising Prices\"}, {\"index\": 15, \"period\": \"2018-01\", \"compound_score\": 0.180146546290217, \"topic\": \"Rising Prices\"}, {\"index\": 16, \"period\": \"2018-02\", \"compound_score\": 0.139053781721678, \"topic\": \"Rising Prices\"}, {\"index\": 17, \"period\": \"2018-03\", \"compound_score\": 0.15750344273583133, \"topic\": \"Rising Prices\"}, {\"index\": 18, \"period\": \"2018-04\", \"compound_score\": 0.14558679182255552, \"topic\": \"Rising Prices\"}, {\"index\": 19, \"period\": \"2018-05\", \"compound_score\": 0.08381635538261901, \"topic\": \"Rising Prices\"}, {\"index\": 20, \"period\": \"2018-06\", \"compound_score\": 0.07401756885656388, \"topic\": \"Rising Prices\"}, {\"index\": 21, \"period\": \"2018-07\", \"compound_score\": 0.07009514733711839, \"topic\": \"Rising Prices\"}, {\"index\": 22, \"period\": \"2018-08\", \"compound_score\": 0.11183910812943942, \"topic\": \"Rising Prices\"}, {\"index\": 23, \"period\": \"2018-09\", \"compound_score\": 0.07553181818181784, \"topic\": \"Rising Prices\"}, {\"index\": 24, \"period\": \"2018-10\", \"compound_score\": 0.05555108085964587, \"topic\": \"Rising Prices\"}, {\"index\": 25, \"period\": \"2018-11\", \"compound_score\": 0.04802911823314542, \"topic\": \"Rising Prices\"}, {\"index\": 26, \"period\": \"2018-12\", \"compound_score\": 0.06970295897041041, \"topic\": \"Rising Prices\"}, {\"index\": 27, \"period\": \"2019-01\", \"compound_score\": 0.136766459276018, \"topic\": \"Rising Prices\"}, {\"index\": 28, \"period\": \"2019-02\", \"compound_score\": 0.14402682051282, \"topic\": \"Rising Prices\"}, {\"index\": 29, \"period\": \"2019-03\", \"compound_score\": 0.13806696718733635, \"topic\": \"Rising Prices\"}, {\"index\": 30, \"period\": \"2019-04\", \"compound_score\": 0.10542447280367268, \"topic\": \"Rising Prices\"}, {\"index\": 31, \"period\": \"2019-05\", \"compound_score\": 0.10161403106247835, \"topic\": \"Rising Prices\"}, {\"index\": 32, \"period\": \"2019-06\", \"compound_score\": 0.11859920131291067, \"topic\": \"Rising Prices\"}, {\"index\": 33, \"period\": \"2019-07\", \"compound_score\": 0.13055412640901712, \"topic\": \"Rising Prices\"}, {\"index\": 34, \"period\": \"2019-08\", \"compound_score\": 0.08922402808341258, \"topic\": \"Rising Prices\"}, {\"index\": 35, \"period\": \"2019-09\", \"compound_score\": 0.09918475689881799, \"topic\": \"Rising Prices\"}, {\"index\": 36, \"period\": \"2019-10\", \"compound_score\": 0.10698496769727792, \"topic\": \"Rising Prices\"}, {\"index\": 37, \"period\": \"2019-11\", \"compound_score\": 0.10733035206647776, \"topic\": \"Rising Prices\"}, {\"index\": 38, \"period\": \"2019-12\", \"compound_score\": 0.1328425417849254, \"topic\": \"Rising Prices\"}, {\"index\": 39, \"period\": \"2020-01\", \"compound_score\": 0.09585058039961962, \"topic\": \"Rising Prices\"}, {\"index\": 40, \"period\": \"2020-02\", \"compound_score\": 0.1631410311614713, \"topic\": \"Rising Prices\"}, {\"index\": 41, \"period\": \"2020-03\", \"compound_score\": 0.12475308806709824, \"topic\": \"Rising Prices\"}, {\"index\": 42, \"period\": \"2020-04\", \"compound_score\": 0.14089208412098297, \"topic\": \"Rising Prices\"}, {\"index\": 43, \"period\": \"2020-05\", \"compound_score\": 0.11202551832654549, \"topic\": \"Rising Prices\"}, {\"index\": 44, \"period\": \"2020-06\", \"compound_score\": 0.07976662338654292, \"topic\": \"Rising Prices\"}, {\"index\": 45, \"period\": \"2020-07\", \"compound_score\": 0.12101555043112099, \"topic\": \"Rising Prices\"}, {\"index\": 46, \"period\": \"2020-08\", \"compound_score\": 0.11855469978898901, \"topic\": \"Rising Prices\"}, {\"index\": 47, \"period\": \"2020-09\", \"compound_score\": 0.12147738945026346, \"topic\": \"Rising Prices\"}, {\"index\": 48, \"period\": \"2020-10\", \"compound_score\": 0.1280006889050034, \"topic\": \"Rising Prices\"}, {\"index\": 49, \"period\": \"2020-11\", \"compound_score\": 0.1429347153465344, \"topic\": \"Rising Prices\"}, {\"index\": 50, \"period\": \"2020-12\", \"compound_score\": 0.15958990129081066, \"topic\": \"Rising Prices\"}, {\"index\": 51, \"period\": \"2021-01\", \"compound_score\": 0.1488299971615099, \"topic\": \"Rising Prices\"}, {\"index\": 52, \"period\": \"2021-02\", \"compound_score\": 0.0626552242045401, \"topic\": \"Rising Prices\"}, {\"index\": 53, \"period\": \"2021-03\", \"compound_score\": 0.09005852520756487, \"topic\": \"Rising Prices\"}, {\"index\": 54, \"period\": \"2021-04\", \"compound_score\": 0.08558921709205577, \"topic\": \"Rising Prices\"}, {\"index\": 55, \"period\": \"2021-05\", \"compound_score\": 0.10079031755787767, \"topic\": \"Rising Prices\"}, {\"index\": 56, \"period\": \"2021-06\", \"compound_score\": 0.07638565597427169, \"topic\": \"Rising Prices\"}, {\"index\": 57, \"period\": \"2021-07\", \"compound_score\": 0.06151252845528436, \"topic\": \"Rising Prices\"}, {\"index\": 58, \"period\": \"2021-08\", \"compound_score\": 0.06718262684649928, \"topic\": \"Rising Prices\"}, {\"index\": 59, \"period\": \"2021-09\", \"compound_score\": 0.08282389741223416, \"topic\": \"Rising Prices\"}, {\"index\": 60, \"period\": \"2021-10\", \"compound_score\": 0.07893623263631507, \"topic\": \"Rising Prices\"}, {\"index\": 61, \"period\": \"2021-11\", \"compound_score\": 0.07807646123581963, \"topic\": \"Rising Prices\"}, {\"index\": 62, \"period\": \"2021-12\", \"compound_score\": 0.11711600359081142, \"topic\": \"Rising Prices\"}, {\"index\": 63, \"period\": \"2022-01\", \"compound_score\": 0.0756742595567952, \"topic\": \"Rising Prices\"}, {\"index\": 64, \"period\": \"2022-02\", \"compound_score\": 0.08444904240447475, \"topic\": \"Rising Prices\"}, {\"index\": 65, \"period\": \"2022-03\", \"compound_score\": 0.02701296693904638, \"topic\": \"Rising Prices\"}, {\"index\": 66, \"period\": \"2022-04\", \"compound_score\": 0.052808660020123126, \"topic\": \"Rising Prices\"}, {\"index\": 67, \"period\": \"2022-05\", \"compound_score\": 0.05513319219083385, \"topic\": \"Rising Prices\"}, {\"index\": 68, \"period\": \"2022-06\", \"compound_score\": 0.03572419215335866, \"topic\": \"Rising Prices\"}, {\"index\": 69, \"period\": \"2022-07\", \"compound_score\": 0.061807293394205785, \"topic\": \"Rising Prices\"}, {\"index\": 70, \"period\": \"2022-08\", \"compound_score\": 0.09845493764162505, \"topic\": \"Rising Prices\"}, {\"index\": 71, \"period\": \"2022-09\", \"compound_score\": 0.08958151736341695, \"topic\": \"Rising Prices\"}, {\"index\": 72, \"period\": \"2022-10\", \"compound_score\": 0.0506772152436818, \"topic\": \"Rising Prices\"}, {\"index\": 0, \"period\": \"2016-10\", \"compound_score\": 0.1446823999999999, \"topic\": \"Rise in Housing Price\"}, {\"index\": 1, \"period\": \"2016-11\", \"compound_score\": 0.14556216931216895, \"topic\": \"Rise in Housing Price\"}, {\"index\": 2, \"period\": \"2016-12\", \"compound_score\": 0.15436479052052302, \"topic\": \"Rise in Housing Price\"}, {\"index\": 3, \"period\": \"2017-01\", \"compound_score\": 0.20418337468982403, \"topic\": \"Rise in Housing Price\"}, {\"index\": 4, \"period\": \"2017-02\", \"compound_score\": 0.17323598418277583, \"topic\": \"Rise in Housing Price\"}, {\"index\": 5, \"period\": \"2017-03\", \"compound_score\": 0.18929197930142097, \"topic\": \"Rise in Housing Price\"}, {\"index\": 6, \"period\": \"2017-04\", \"compound_score\": 0.09387193732193667, \"topic\": \"Rise in Housing Price\"}, {\"index\": 7, \"period\": \"2017-05\", \"compound_score\": 0.11443650872817901, \"topic\": \"Rise in Housing Price\"}, {\"index\": 8, \"period\": \"2017-06\", \"compound_score\": 0.16624215546017998, \"topic\": \"Rise in Housing Price\"}, {\"index\": 9, \"period\": \"2017-07\", \"compound_score\": 0.2698643921568724, \"topic\": \"Rise in Housing Price\"}, {\"index\": 10, \"period\": \"2017-08\", \"compound_score\": 0.20910312499999853, \"topic\": \"Rise in Housing Price\"}, {\"index\": 11, \"period\": \"2017-09\", \"compound_score\": 0.24005731303772262, \"topic\": \"Rise in Housing Price\"}, {\"index\": 12, \"period\": \"2017-10\", \"compound_score\": 0.16484162234042551, \"topic\": \"Rise in Housing Price\"}, {\"index\": 13, \"period\": \"2017-11\", \"compound_score\": 0.230577238095237, \"topic\": \"Rise in Housing Price\"}, {\"index\": 14, \"period\": \"2017-12\", \"compound_score\": 0.23851933455061547, \"topic\": \"Rise in Housing Price\"}, {\"index\": 15, \"period\": \"2018-01\", \"compound_score\": 0.3453607934054627, \"topic\": \"Rise in Housing Price\"}, {\"index\": 16, \"period\": \"2018-02\", \"compound_score\": 0.2556414001207034, \"topic\": \"Rise in Housing Price\"}, {\"index\": 17, \"period\": \"2018-03\", \"compound_score\": 0.3221627701208203, \"topic\": \"Rise in Housing Price\"}, {\"index\": 18, \"period\": \"2018-04\", \"compound_score\": 0.1662279999999996, \"topic\": \"Rise in Housing Price\"}, {\"index\": 19, \"period\": \"2018-05\", \"compound_score\": 0.17602071118349605, \"topic\": \"Rise in Housing Price\"}, {\"index\": 20, \"period\": \"2018-06\", \"compound_score\": 0.17684454828660387, \"topic\": \"Rise in Housing Price\"}, {\"index\": 21, \"period\": \"2018-07\", \"compound_score\": 0.1974338056680152, \"topic\": \"Rise in Housing Price\"}, {\"index\": 22, \"period\": \"2018-08\", \"compound_score\": 0.19860636942675236, \"topic\": \"Rise in Housing Price\"}, {\"index\": 23, \"period\": \"2018-09\", \"compound_score\": 0.2287788705583769, \"topic\": \"Rise in Housing Price\"}, {\"index\": 24, \"period\": \"2018-10\", \"compound_score\": 0.22646170737725552, \"topic\": \"Rise in Housing Price\"}, {\"index\": 25, \"period\": \"2018-11\", \"compound_score\": 0.20903401015228398, \"topic\": \"Rise in Housing Price\"}, {\"index\": 26, \"period\": \"2018-12\", \"compound_score\": 0.2402651332984827, \"topic\": \"Rise in Housing Price\"}, {\"index\": 27, \"period\": \"2019-01\", \"compound_score\": 0.2758036016007117, \"topic\": \"Rise in Housing Price\"}, {\"index\": 28, \"period\": \"2019-02\", \"compound_score\": 0.2724013586956528, \"topic\": \"Rise in Housing Price\"}, {\"index\": 29, \"period\": \"2019-03\", \"compound_score\": 0.26877655737704925, \"topic\": \"Rise in Housing Price\"}, {\"index\": 30, \"period\": \"2019-04\", \"compound_score\": 0.27500818485523265, \"topic\": \"Rise in Housing Price\"}, {\"index\": 31, \"period\": \"2019-05\", \"compound_score\": 0.24831252505009965, \"topic\": \"Rise in Housing Price\"}, {\"index\": 32, \"period\": \"2019-06\", \"compound_score\": 0.26386236054022166, \"topic\": \"Rise in Housing Price\"}, {\"index\": 33, \"period\": \"2019-07\", \"compound_score\": 0.23734477361654535, \"topic\": \"Rise in Housing Price\"}, {\"index\": 34, \"period\": \"2019-08\", \"compound_score\": 0.2243848049281306, \"topic\": \"Rise in Housing Price\"}, {\"index\": 35, \"period\": \"2019-09\", \"compound_score\": 0.3035562639543622, \"topic\": \"Rise in Housing Price\"}, {\"index\": 36, \"period\": \"2019-10\", \"compound_score\": 0.19017480083857355, \"topic\": \"Rise in Housing Price\"}, {\"index\": 37, \"period\": \"2019-11\", \"compound_score\": 0.24829725864123886, \"topic\": \"Rise in Housing Price\"}, {\"index\": 38, \"period\": \"2019-12\", \"compound_score\": 0.2787217785843923, \"topic\": \"Rise in Housing Price\"}, {\"index\": 39, \"period\": \"2020-01\", \"compound_score\": 0.26876090604026714, \"topic\": \"Rise in Housing Price\"}, {\"index\": 40, \"period\": \"2020-02\", \"compound_score\": 0.23633241943241823, \"topic\": \"Rise in Housing Price\"}, {\"index\": 41, \"period\": \"2020-03\", \"compound_score\": 0.27646230333543015, \"topic\": \"Rise in Housing Price\"}, {\"index\": 42, \"period\": \"2020-04\", \"compound_score\": 0.23675264069263977, \"topic\": \"Rise in Housing Price\"}, {\"index\": 43, \"period\": \"2020-05\", \"compound_score\": 0.15761775205016829, \"topic\": \"Rise in Housing Price\"}, {\"index\": 44, \"period\": \"2020-06\", \"compound_score\": 0.20561177240026093, \"topic\": \"Rise in Housing Price\"}, {\"index\": 45, \"period\": \"2020-07\", \"compound_score\": 0.24121756756756665, \"topic\": \"Rise in Housing Price\"}, {\"index\": 46, \"period\": \"2020-08\", \"compound_score\": 0.20059072661581545, \"topic\": \"Rise in Housing Price\"}, {\"index\": 47, \"period\": \"2020-09\", \"compound_score\": 0.133715014265337, \"topic\": \"Rise in Housing Price\"}, {\"index\": 48, \"period\": \"2020-10\", \"compound_score\": 0.17562994078460367, \"topic\": \"Rise in Housing Price\"}, {\"index\": 49, \"period\": \"2020-11\", \"compound_score\": 0.2422609843400436, \"topic\": \"Rise in Housing Price\"}, {\"index\": 50, \"period\": \"2020-12\", \"compound_score\": 0.3036378763222142, \"topic\": \"Rise in Housing Price\"}, {\"index\": 51, \"period\": \"2021-01\", \"compound_score\": 0.28274009038089254, \"topic\": \"Rise in Housing Price\"}, {\"index\": 52, \"period\": \"2021-02\", \"compound_score\": 0.20171771820856585, \"topic\": \"Rise in Housing Price\"}, {\"index\": 53, \"period\": \"2021-03\", \"compound_score\": 0.19708483050847464, \"topic\": \"Rise in Housing Price\"}, {\"index\": 54, \"period\": \"2021-04\", \"compound_score\": 0.2513374138629922, \"topic\": \"Rise in Housing Price\"}, {\"index\": 55, \"period\": \"2021-05\", \"compound_score\": 0.28896288241798357, \"topic\": \"Rise in Housing Price\"}, {\"index\": 56, \"period\": \"2021-06\", \"compound_score\": 0.23152280772325126, \"topic\": \"Rise in Housing Price\"}, {\"index\": 57, \"period\": \"2021-07\", \"compound_score\": 0.1915209359104824, \"topic\": \"Rise in Housing Price\"}, {\"index\": 58, \"period\": \"2021-08\", \"compound_score\": 0.11577008954361731, \"topic\": \"Rise in Housing Price\"}, {\"index\": 59, \"period\": \"2021-09\", \"compound_score\": 0.2125479237083548, \"topic\": \"Rise in Housing Price\"}, {\"index\": 60, \"period\": \"2021-10\", \"compound_score\": 0.26524902522935695, \"topic\": \"Rise in Housing Price\"}, {\"index\": 61, \"period\": \"2021-11\", \"compound_score\": 0.22010512319124118, \"topic\": \"Rise in Housing Price\"}, {\"index\": 62, \"period\": \"2021-12\", \"compound_score\": 0.2536871334792132, \"topic\": \"Rise in Housing Price\"}, {\"index\": 63, \"period\": \"2022-01\", \"compound_score\": 0.1775451926870963, \"topic\": \"Rise in Housing Price\"}, {\"index\": 64, \"period\": \"2022-02\", \"compound_score\": 0.23644258480516134, \"topic\": \"Rise in Housing Price\"}, {\"index\": 65, \"period\": \"2022-03\", \"compound_score\": 0.2264083453089658, \"topic\": \"Rise in Housing Price\"}, {\"index\": 66, \"period\": \"2022-04\", \"compound_score\": 0.1852869436201778, \"topic\": \"Rise in Housing Price\"}, {\"index\": 67, \"period\": \"2022-05\", \"compound_score\": 0.2813460056163506, \"topic\": \"Rise in Housing Price\"}, {\"index\": 68, \"period\": \"2022-06\", \"compound_score\": 0.17085638372092918, \"topic\": \"Rise in Housing Price\"}, {\"index\": 69, \"period\": \"2022-07\", \"compound_score\": 0.20244963467492574, \"topic\": \"Rise in Housing Price\"}, {\"index\": 70, \"period\": \"2022-08\", \"compound_score\": 0.12875504082651654, \"topic\": \"Rise in Housing Price\"}, {\"index\": 71, \"period\": \"2022-09\", \"compound_score\": 0.2810268860704076, \"topic\": \"Rise in Housing Price\"}, {\"index\": 72, \"period\": \"2022-10\", \"compound_score\": 0.22404252873563324, \"topic\": \"Rise in Housing Price\"}, {\"index\": 0, \"period\": \"2016-10\", \"compound_score\": -0.014263830047753214, \"topic\": \"inflation\"}, {\"index\": 1, \"period\": \"2016-11\", \"compound_score\": 0.01827747080033327, \"topic\": \"inflation\"}, {\"index\": 2, \"period\": \"2016-12\", \"compound_score\": 0.0067130010318278395, \"topic\": \"inflation\"}, {\"index\": 3, \"period\": \"2017-01\", \"compound_score\": 0.010988802577570369, \"topic\": \"inflation\"}, {\"index\": 4, \"period\": \"2017-02\", \"compound_score\": 0.010884525907045807, \"topic\": \"inflation\"}, {\"index\": 5, \"period\": \"2017-03\", \"compound_score\": 0.012625920488076448, \"topic\": \"inflation\"}, {\"index\": 6, \"period\": \"2017-04\", \"compound_score\": 0.016851929171580324, \"topic\": \"inflation\"}, {\"index\": 7, \"period\": \"2017-05\", \"compound_score\": 0.011342424720910627, \"topic\": \"inflation\"}, {\"index\": 8, \"period\": \"2017-06\", \"compound_score\": -0.005595195073061668, \"topic\": \"inflation\"}, {\"index\": 9, \"period\": \"2017-07\", \"compound_score\": -0.009127517851120735, \"topic\": \"inflation\"}, {\"index\": 10, \"period\": \"2017-08\", \"compound_score\": -0.017693812772409178, \"topic\": \"inflation\"}, {\"index\": 11, \"period\": \"2017-09\", \"compound_score\": 0.004567595028708836, \"topic\": \"inflation\"}, {\"index\": 12, \"period\": \"2017-10\", \"compound_score\": 0.015179359986124805, \"topic\": \"inflation\"}, {\"index\": 13, \"period\": \"2017-11\", \"compound_score\": 0.010083312919579935, \"topic\": \"inflation\"}, {\"index\": 14, \"period\": \"2017-12\", \"compound_score\": 0.031394929340813796, \"topic\": \"inflation\"}, {\"index\": 15, \"period\": \"2018-01\", \"compound_score\": 0.029132374941560842, \"topic\": \"inflation\"}, {\"index\": 16, \"period\": \"2018-02\", \"compound_score\": 0.01583002082870841, \"topic\": \"inflation\"}, {\"index\": 17, \"period\": \"2018-03\", \"compound_score\": 0.030816743252594918, \"topic\": \"inflation\"}, {\"index\": 18, \"period\": \"2018-04\", \"compound_score\": 0.029258328279120487, \"topic\": \"inflation\"}, {\"index\": 19, \"period\": \"2018-05\", \"compound_score\": 0.019616160193484004, \"topic\": \"inflation\"}, {\"index\": 20, \"period\": \"2018-06\", \"compound_score\": 0.030390667365855537, \"topic\": \"inflation\"}, {\"index\": 21, \"period\": \"2018-07\", \"compound_score\": 0.02904554195804137, \"topic\": \"inflation\"}, {\"index\": 22, \"period\": \"2018-08\", \"compound_score\": 0.02472767969593393, \"topic\": \"inflation\"}, {\"index\": 23, \"period\": \"2018-09\", \"compound_score\": 0.018686367264461254, \"topic\": \"inflation\"}, {\"index\": 24, \"period\": \"2018-10\", \"compound_score\": 0.019044180657365063, \"topic\": \"inflation\"}, {\"index\": 25, \"period\": \"2018-11\", \"compound_score\": 0.03210441603047882, \"topic\": \"inflation\"}, {\"index\": 26, \"period\": \"2018-12\", \"compound_score\": 0.02627622791221957, \"topic\": \"inflation\"}, {\"index\": 27, \"period\": \"2019-01\", \"compound_score\": 0.02870962689217093, \"topic\": \"inflation\"}, {\"index\": 28, \"period\": \"2019-02\", \"compound_score\": 0.0413308091506034, \"topic\": \"inflation\"}, {\"index\": 29, \"period\": \"2019-03\", \"compound_score\": 0.036137031431751225, \"topic\": \"inflation\"}, {\"index\": 30, \"period\": \"2019-04\", \"compound_score\": 0.028329660156627717, \"topic\": \"inflation\"}, {\"index\": 31, \"period\": \"2019-05\", \"compound_score\": 0.01803076159761771, \"topic\": \"inflation\"}, {\"index\": 32, \"period\": \"2019-06\", \"compound_score\": 0.029657548597674367, \"topic\": \"inflation\"}, {\"index\": 33, \"period\": \"2019-07\", \"compound_score\": 0.05572977223181332, \"topic\": \"inflation\"}, {\"index\": 34, \"period\": \"2019-08\", \"compound_score\": 0.017714092795964424, \"topic\": \"inflation\"}, {\"index\": 35, \"period\": \"2019-09\", \"compound_score\": 0.023442042518798552, \"topic\": \"inflation\"}, {\"index\": 36, \"period\": \"2019-10\", \"compound_score\": 0.026616186134958107, \"topic\": \"inflation\"}, {\"index\": 37, \"period\": \"2019-11\", \"compound_score\": 0.035087220143085275, \"topic\": \"inflation\"}, {\"index\": 38, \"period\": \"2019-12\", \"compound_score\": 0.02420613979772485, \"topic\": \"inflation\"}, {\"index\": 39, \"period\": \"2020-01\", \"compound_score\": 0.030793481206761023, \"topic\": \"inflation\"}, {\"index\": 40, \"period\": \"2020-02\", \"compound_score\": 0.04600812784340701, \"topic\": \"inflation\"}, {\"index\": 41, \"period\": \"2020-03\", \"compound_score\": 0.00962390905255478, \"topic\": \"inflation\"}, {\"index\": 42, \"period\": \"2020-04\", \"compound_score\": 0.009363546185144192, \"topic\": \"inflation\"}, {\"index\": 43, \"period\": \"2020-05\", \"compound_score\": 0.013055294404594648, \"topic\": \"inflation\"}, {\"index\": 44, \"period\": \"2020-06\", \"compound_score\": 0.010978800172186743, \"topic\": \"inflation\"}, {\"index\": 45, \"period\": \"2020-07\", \"compound_score\": 0.026788967048427835, \"topic\": \"inflation\"}, {\"index\": 46, \"period\": \"2020-08\", \"compound_score\": 0.03773309782876116, \"topic\": \"inflation\"}, {\"index\": 47, \"period\": \"2020-09\", \"compound_score\": 0.028392722602738715, \"topic\": \"inflation\"}, {\"index\": 48, \"period\": \"2020-10\", \"compound_score\": 0.039587375140133434, \"topic\": \"inflation\"}, {\"index\": 49, \"period\": \"2020-11\", \"compound_score\": 0.037730763961725484, \"topic\": \"inflation\"}, {\"index\": 50, \"period\": \"2020-12\", \"compound_score\": 0.04291388517517723, \"topic\": \"inflation\"}, {\"index\": 51, \"period\": \"2021-01\", \"compound_score\": 0.05126113958188333, \"topic\": \"inflation\"}, {\"index\": 52, \"period\": \"2021-02\", \"compound_score\": 0.03291469023573119, \"topic\": \"inflation\"}, {\"index\": 53, \"period\": \"2021-03\", \"compound_score\": 0.03511089648440158, \"topic\": \"inflation\"}, {\"index\": 54, \"period\": \"2021-04\", \"compound_score\": 0.046913327937319484, \"topic\": \"inflation\"}, {\"index\": 55, \"period\": \"2021-05\", \"compound_score\": 0.0007800133053463884, \"topic\": \"inflation\"}, {\"index\": 56, \"period\": \"2021-06\", \"compound_score\": 0.014090213689076269, \"topic\": \"inflation\"}, {\"index\": 57, \"period\": \"2021-07\", \"compound_score\": 0.0058596053981468475, \"topic\": \"inflation\"}, {\"index\": 58, \"period\": \"2021-08\", \"compound_score\": -0.013177730549306835, \"topic\": \"inflation\"}, {\"index\": 59, \"period\": \"2021-09\", \"compound_score\": -0.015720334309765382, \"topic\": \"inflation\"}, {\"index\": 60, \"period\": \"2021-10\", \"compound_score\": -0.02161784555466304, \"topic\": \"inflation\"}, {\"index\": 61, \"period\": \"2021-11\", \"compound_score\": -0.0075201909918546075, \"topic\": \"inflation\"}, {\"index\": 62, \"period\": \"2021-12\", \"compound_score\": -0.014265385332289377, \"topic\": \"inflation\"}, {\"index\": 63, \"period\": \"2022-01\", \"compound_score\": -0.021198624929270278, \"topic\": \"inflation\"}, {\"index\": 64, \"period\": \"2022-02\", \"compound_score\": -0.033097012839769055, \"topic\": \"inflation\"}, {\"index\": 65, \"period\": \"2022-03\", \"compound_score\": -0.05468572127978118, \"topic\": \"inflation\"}, {\"index\": 66, \"period\": \"2022-04\", \"compound_score\": -0.04472056323165227, \"topic\": \"inflation\"}, {\"index\": 67, \"period\": \"2022-05\", \"compound_score\": -0.05500843577446135, \"topic\": \"inflation\"}, {\"index\": 68, \"period\": \"2022-06\", \"compound_score\": -0.06792430564956284, \"topic\": \"inflation\"}, {\"index\": 69, \"period\": \"2022-07\", \"compound_score\": -0.05169931920118678, \"topic\": \"inflation\"}, {\"index\": 70, \"period\": \"2022-08\", \"compound_score\": -0.02371079978305463, \"topic\": \"inflation\"}, {\"index\": 71, \"period\": \"2022-09\", \"compound_score\": -0.052460981308990524, \"topic\": \"inflation\"}, {\"index\": 72, \"period\": \"2022-10\", \"compound_score\": -0.06028198105500874, \"topic\": \"inflation\"}]}}, {\"mode\": \"vega-lite\"});\n",
       "</script>"
      ],
      "text/plain": [
       "alt.Chart(...)"
      ]
     },
     "execution_count": 106,
     "metadata": {},
     "output_type": "execute_result"
    }
   ],
   "source": [
    "alt.Chart(inflation_rise_house, title='Average global score sentiment over the months (2016-2022)').mark_line().encode(\n",
    "    x = alt.X('period:O', axis=alt.Axis(title='Time')),\n",
    "    y = alt.Y('compound_score', axis=alt.Axis(title='Average compound sentiment score'), scale=alt.Scale(domain=[-0.2,.4])),\n",
    "    color=alt.Color('topic:N')\n",
    ").properties(width=800)"
   ]
  },
  {
   "cell_type": "code",
   "execution_count": 107,
   "id": "a4e28be1",
   "metadata": {},
   "outputs": [],
   "source": [
    "# make mean of all = 0\n",
    "\n",
    "mean_rise_price_g = rise_price_g['compound_score'].mean()\n",
    "mean_house_price_g = house_price_g['compound_score'].mean()\n",
    "mean_inflation_g = inflation_sent_g['compound_score'].mean()"
   ]
  },
  {
   "cell_type": "code",
   "execution_count": 108,
   "id": "d6dfd854",
   "metadata": {},
   "outputs": [],
   "source": [
    "rise_price_comp = rise_price_g['compound_score']\n",
    "rise_price_g_corrected = rise_price_comp - mean_rise_price_g\n",
    "\n",
    "house_price_comp = house_price_g['compound_score']\n",
    "house_price_g_corrected = house_price_comp - mean_house_price_g\n",
    "\n",
    "inflation_comp = inflation_sent_g['compound_score']\n",
    "inflation_g_corrected = inflation_comp - mean_inflation_g"
   ]
  },
  {
   "cell_type": "code",
   "execution_count": 135,
   "id": "5bbb76ef",
   "metadata": {},
   "outputs": [],
   "source": [
    "new_rise_price_g = rise_price_g.copy()\n",
    "new_rise_price_g['compound_score'] = rise_price_g_corrected\n",
    "\n",
    "new_house_price_g = house_price_g.copy()\n",
    "new_house_price_g['compound_score'] = house_price_g_corrected\n",
    "\n",
    "new_inflation_sent_g = inflation_sent_g.copy()\n",
    "new_inflation_sent_g['compound_score'] = inflation_g_corrected\n"
   ]
  },
  {
   "cell_type": "code",
   "execution_count": 136,
   "id": "864cbfc8",
   "metadata": {},
   "outputs": [
    {
     "data": {
      "text/html": [
       "<div>\n",
       "<style scoped>\n",
       "    .dataframe tbody tr th:only-of-type {\n",
       "        vertical-align: middle;\n",
       "    }\n",
       "\n",
       "    .dataframe tbody tr th {\n",
       "        vertical-align: top;\n",
       "    }\n",
       "\n",
       "    .dataframe thead th {\n",
       "        text-align: right;\n",
       "    }\n",
       "</style>\n",
       "<table border=\"1\" class=\"dataframe\">\n",
       "  <thead>\n",
       "    <tr style=\"text-align: right;\">\n",
       "      <th></th>\n",
       "      <th>period</th>\n",
       "      <th>compound_score</th>\n",
       "      <th>topic</th>\n",
       "    </tr>\n",
       "  </thead>\n",
       "  <tbody>\n",
       "    <tr>\n",
       "      <th>0</th>\n",
       "      <td>2016-10</td>\n",
       "      <td>-0.024606</td>\n",
       "      <td>inflation</td>\n",
       "    </tr>\n",
       "    <tr>\n",
       "      <th>1</th>\n",
       "      <td>2016-11</td>\n",
       "      <td>0.007936</td>\n",
       "      <td>inflation</td>\n",
       "    </tr>\n",
       "    <tr>\n",
       "      <th>2</th>\n",
       "      <td>2016-12</td>\n",
       "      <td>-0.003629</td>\n",
       "      <td>inflation</td>\n",
       "    </tr>\n",
       "    <tr>\n",
       "      <th>3</th>\n",
       "      <td>2017-01</td>\n",
       "      <td>0.000647</td>\n",
       "      <td>inflation</td>\n",
       "    </tr>\n",
       "    <tr>\n",
       "      <th>4</th>\n",
       "      <td>2017-02</td>\n",
       "      <td>0.000543</td>\n",
       "      <td>inflation</td>\n",
       "    </tr>\n",
       "    <tr>\n",
       "      <th>...</th>\n",
       "      <td>...</td>\n",
       "      <td>...</td>\n",
       "      <td>...</td>\n",
       "    </tr>\n",
       "    <tr>\n",
       "      <th>68</th>\n",
       "      <td>2022-06</td>\n",
       "      <td>-0.078266</td>\n",
       "      <td>inflation</td>\n",
       "    </tr>\n",
       "    <tr>\n",
       "      <th>69</th>\n",
       "      <td>2022-07</td>\n",
       "      <td>-0.062041</td>\n",
       "      <td>inflation</td>\n",
       "    </tr>\n",
       "    <tr>\n",
       "      <th>70</th>\n",
       "      <td>2022-08</td>\n",
       "      <td>-0.034053</td>\n",
       "      <td>inflation</td>\n",
       "    </tr>\n",
       "    <tr>\n",
       "      <th>71</th>\n",
       "      <td>2022-09</td>\n",
       "      <td>-0.062803</td>\n",
       "      <td>inflation</td>\n",
       "    </tr>\n",
       "    <tr>\n",
       "      <th>72</th>\n",
       "      <td>2022-10</td>\n",
       "      <td>-0.070624</td>\n",
       "      <td>inflation</td>\n",
       "    </tr>\n",
       "  </tbody>\n",
       "</table>\n",
       "<p>73 rows × 3 columns</p>\n",
       "</div>"
      ],
      "text/plain": [
       "     period  compound_score      topic\n",
       "0   2016-10       -0.024606  inflation\n",
       "1   2016-11        0.007936  inflation\n",
       "2   2016-12       -0.003629  inflation\n",
       "3   2017-01        0.000647  inflation\n",
       "4   2017-02        0.000543  inflation\n",
       "..      ...             ...        ...\n",
       "68  2022-06       -0.078266  inflation\n",
       "69  2022-07       -0.062041  inflation\n",
       "70  2022-08       -0.034053  inflation\n",
       "71  2022-09       -0.062803  inflation\n",
       "72  2022-10       -0.070624  inflation\n",
       "\n",
       "[73 rows x 3 columns]"
      ]
     },
     "execution_count": 136,
     "metadata": {},
     "output_type": "execute_result"
    }
   ],
   "source": [
    "new_inflation_sent_g"
   ]
  },
  {
   "cell_type": "code",
   "execution_count": 138,
   "id": "ed429efa",
   "metadata": {},
   "outputs": [],
   "source": [
    "new_inflation_rise_house = pd.concat([new_rise_price_g, new_house_price_g, new_inflation_sent_g],ignore_index = False).reset_index()"
   ]
  },
  {
   "cell_type": "code",
   "execution_count": 139,
   "id": "ebfd18d6",
   "metadata": {},
   "outputs": [
    {
     "data": {
      "text/html": [
       "\n",
       "<div id=\"altair-viz-4068d556036f49df924a3598bd1b46a4\"></div>\n",
       "<script type=\"text/javascript\">\n",
       "  (function(spec, embedOpt){\n",
       "    let outputDiv = document.currentScript.previousElementSibling;\n",
       "    if (outputDiv.id !== \"altair-viz-4068d556036f49df924a3598bd1b46a4\") {\n",
       "      outputDiv = document.getElementById(\"altair-viz-4068d556036f49df924a3598bd1b46a4\");\n",
       "    }\n",
       "    const paths = {\n",
       "      \"vega\": \"https://cdn.jsdelivr.net/npm//vega@5?noext\",\n",
       "      \"vega-lib\": \"https://cdn.jsdelivr.net/npm//vega-lib?noext\",\n",
       "      \"vega-lite\": \"https://cdn.jsdelivr.net/npm//vega-lite@4.8.1?noext\",\n",
       "      \"vega-embed\": \"https://cdn.jsdelivr.net/npm//vega-embed@6?noext\",\n",
       "    };\n",
       "\n",
       "    function loadScript(lib) {\n",
       "      return new Promise(function(resolve, reject) {\n",
       "        var s = document.createElement('script');\n",
       "        s.src = paths[lib];\n",
       "        s.async = true;\n",
       "        s.onload = () => resolve(paths[lib]);\n",
       "        s.onerror = () => reject(`Error loading script: ${paths[lib]}`);\n",
       "        document.getElementsByTagName(\"head\")[0].appendChild(s);\n",
       "      });\n",
       "    }\n",
       "\n",
       "    function showError(err) {\n",
       "      outputDiv.innerHTML = `<div class=\"error\" style=\"color:red;\">${err}</div>`;\n",
       "      throw err;\n",
       "    }\n",
       "\n",
       "    function displayChart(vegaEmbed) {\n",
       "      vegaEmbed(outputDiv, spec, embedOpt)\n",
       "        .catch(err => showError(`Javascript Error: ${err.message}<br>This usually means there's a typo in your chart specification. See the javascript console for the full traceback.`));\n",
       "    }\n",
       "\n",
       "    if(typeof define === \"function\" && define.amd) {\n",
       "      requirejs.config({paths});\n",
       "      require([\"vega-embed\"], displayChart, err => showError(`Error loading script: ${err.message}`));\n",
       "    } else if (typeof vegaEmbed === \"function\") {\n",
       "      displayChart(vegaEmbed);\n",
       "    } else {\n",
       "      loadScript(\"vega\")\n",
       "        .then(() => loadScript(\"vega-lite\"))\n",
       "        .then(() => loadScript(\"vega-embed\"))\n",
       "        .catch(showError)\n",
       "        .then(() => displayChart(vegaEmbed));\n",
       "    }\n",
       "  })({\"config\": {\"view\": {\"continuousWidth\": 400, \"continuousHeight\": 300}}, \"data\": {\"name\": \"data-f18a53a80819720157376536761bfb48\"}, \"mark\": \"line\", \"encoding\": {\"color\": {\"type\": \"nominal\", \"field\": \"topic\"}, \"x\": {\"type\": \"ordinal\", \"axis\": {\"title\": \"Time\"}, \"field\": \"period\"}, \"y\": {\"type\": \"quantitative\", \"axis\": {\"title\": \"Average compound sentiment score\"}, \"field\": \"compound_score\", \"scale\": {\"domain\": [-0.2, 0.4]}}}, \"title\": {\"text\": [\"Average global score sentiment over the months (2016-2022)\"], \"subtitle\": [\"Standardized to Mean of 0\"]}, \"width\": 800, \"$schema\": \"https://vega.github.io/schema/vega-lite/v4.8.1.json\", \"datasets\": {\"data-f18a53a80819720157376536761bfb48\": [{\"index\": 0, \"period\": \"2016-10\", \"compound_score\": -0.07242552755946591, \"topic\": \"Rising Prices\"}, {\"index\": 1, \"period\": \"2016-11\", \"compound_score\": -0.030915724817110198, \"topic\": \"Rising Prices\"}, {\"index\": 2, \"period\": \"2016-12\", \"compound_score\": -0.042465758499448655, \"topic\": \"Rising Prices\"}, {\"index\": 3, \"period\": \"2017-01\", \"compound_score\": -0.052974303938543445, \"topic\": \"Rising Prices\"}, {\"index\": 4, \"period\": \"2017-02\", \"compound_score\": 0.055400991056007015, \"topic\": \"Rising Prices\"}, {\"index\": 5, \"period\": \"2017-03\", \"compound_score\": -0.04989755226110689, \"topic\": \"Rising Prices\"}, {\"index\": 6, \"period\": \"2017-04\", \"compound_score\": -0.10379103813808337, \"topic\": \"Rising Prices\"}, {\"index\": 7, \"period\": \"2017-05\", \"compound_score\": -0.04936488943808058, \"topic\": \"Rising Prices\"}, {\"index\": 8, \"period\": \"2017-06\", \"compound_score\": -0.056343530887580574, \"topic\": \"Rising Prices\"}, {\"index\": 9, \"period\": \"2017-07\", \"compound_score\": 0.04416416555093372, \"topic\": \"Rising Prices\"}, {\"index\": 10, \"period\": \"2017-08\", \"compound_score\": -0.048810285405214815, \"topic\": \"Rising Prices\"}, {\"index\": 11, \"period\": \"2017-09\", \"compound_score\": -0.06041298909748647, \"topic\": \"Rising Prices\"}, {\"index\": 12, \"period\": \"2017-10\", \"compound_score\": -0.049776997167562384, \"topic\": \"Rising Prices\"}, {\"index\": 13, \"period\": \"2017-11\", \"compound_score\": -0.027113114363800414, \"topic\": \"Rising Prices\"}, {\"index\": 14, \"period\": \"2017-12\", \"compound_score\": -0.013900381241403609, \"topic\": \"Rising Prices\"}, {\"index\": 15, \"period\": \"2018-01\", \"compound_score\": 0.08959228176667236, \"topic\": \"Rising Prices\"}, {\"index\": 16, \"period\": \"2018-02\", \"compound_score\": 0.04849951719813336, \"topic\": \"Rising Prices\"}, {\"index\": 17, \"period\": \"2018-03\", \"compound_score\": 0.06694917821228669, \"topic\": \"Rising Prices\"}, {\"index\": 18, \"period\": \"2018-04\", \"compound_score\": 0.05503252729901087, \"topic\": \"Rising Prices\"}, {\"index\": 19, \"period\": \"2018-05\", \"compound_score\": -0.0067379091409256325, \"topic\": \"Rising Prices\"}, {\"index\": 20, \"period\": \"2018-06\", \"compound_score\": -0.016536695666980766, \"topic\": \"Rising Prices\"}, {\"index\": 21, \"period\": \"2018-07\", \"compound_score\": -0.020459117186426262, \"topic\": \"Rising Prices\"}, {\"index\": 22, \"period\": \"2018-08\", \"compound_score\": 0.021284843605894777, \"topic\": \"Rising Prices\"}, {\"index\": 23, \"period\": \"2018-09\", \"compound_score\": -0.015022446341726808, \"topic\": \"Rising Prices\"}, {\"index\": 24, \"period\": \"2018-10\", \"compound_score\": -0.035003183663898776, \"topic\": \"Rising Prices\"}, {\"index\": 25, \"period\": \"2018-11\", \"compound_score\": -0.042525146290399225, \"topic\": \"Rising Prices\"}, {\"index\": 26, \"period\": \"2018-12\", \"compound_score\": -0.020851305553134233, \"topic\": \"Rising Prices\"}, {\"index\": 27, \"period\": \"2019-01\", \"compound_score\": 0.046212194752473346, \"topic\": \"Rising Prices\"}, {\"index\": 28, \"period\": \"2019-02\", \"compound_score\": 0.05347255598927536, \"topic\": \"Rising Prices\"}, {\"index\": 29, \"period\": \"2019-03\", \"compound_score\": 0.047512702663791706, \"topic\": \"Rising Prices\"}, {\"index\": 30, \"period\": \"2019-04\", \"compound_score\": 0.014870208280128028, \"topic\": \"Rising Prices\"}, {\"index\": 31, \"period\": \"2019-05\", \"compound_score\": 0.011059766538933702, \"topic\": \"Rising Prices\"}, {\"index\": 32, \"period\": \"2019-06\", \"compound_score\": 0.028044936789366023, \"topic\": \"Rising Prices\"}, {\"index\": 33, \"period\": \"2019-07\", \"compound_score\": 0.03999986188547247, \"topic\": \"Rising Prices\"}, {\"index\": 34, \"period\": \"2019-08\", \"compound_score\": -0.0013302364401320682, \"topic\": \"Rising Prices\"}, {\"index\": 35, \"period\": \"2019-09\", \"compound_score\": 0.008630492375273344, \"topic\": \"Rising Prices\"}, {\"index\": 36, \"period\": \"2019-10\", \"compound_score\": 0.01643070317373327, \"topic\": \"Rising Prices\"}, {\"index\": 37, \"period\": \"2019-11\", \"compound_score\": 0.01677608754293311, \"topic\": \"Rising Prices\"}, {\"index\": 38, \"period\": \"2019-12\", \"compound_score\": 0.04228827726138076, \"topic\": \"Rising Prices\"}, {\"index\": 39, \"period\": \"2020-01\", \"compound_score\": 0.005296315876074972, \"topic\": \"Rising Prices\"}, {\"index\": 40, \"period\": \"2020-02\", \"compound_score\": 0.07258676663792665, \"topic\": \"Rising Prices\"}, {\"index\": 41, \"period\": \"2020-03\", \"compound_score\": 0.034198823543553594, \"topic\": \"Rising Prices\"}, {\"index\": 42, \"period\": \"2020-04\", \"compound_score\": 0.05033781959743833, \"topic\": \"Rising Prices\"}, {\"index\": 43, \"period\": \"2020-05\", \"compound_score\": 0.021471253803000842, \"topic\": \"Rising Prices\"}, {\"index\": 44, \"period\": \"2020-06\", \"compound_score\": -0.01078764113700173, \"topic\": \"Rising Prices\"}, {\"index\": 45, \"period\": \"2020-07\", \"compound_score\": 0.030461285907576338, \"topic\": \"Rising Prices\"}, {\"index\": 46, \"period\": \"2020-08\", \"compound_score\": 0.028000435265444365, \"topic\": \"Rising Prices\"}, {\"index\": 47, \"period\": \"2020-09\", \"compound_score\": 0.03092312492671881, \"topic\": \"Rising Prices\"}, {\"index\": 48, \"period\": \"2020-10\", \"compound_score\": 0.03744642438145876, \"topic\": \"Rising Prices\"}, {\"index\": 49, \"period\": \"2020-11\", \"compound_score\": 0.052380450822989755, \"topic\": \"Rising Prices\"}, {\"index\": 50, \"period\": \"2020-12\", \"compound_score\": 0.06903563676726601, \"topic\": \"Rising Prices\"}, {\"index\": 51, \"period\": \"2021-01\", \"compound_score\": 0.05827573263796526, \"topic\": \"Rising Prices\"}, {\"index\": 52, \"period\": \"2021-02\", \"compound_score\": -0.027899040319004545, \"topic\": \"Rising Prices\"}, {\"index\": 53, \"period\": \"2021-03\", \"compound_score\": -0.000495739315979779, \"topic\": \"Rising Prices\"}, {\"index\": 54, \"period\": \"2021-04\", \"compound_score\": -0.004965047431488873, \"topic\": \"Rising Prices\"}, {\"index\": 55, \"period\": \"2021-05\", \"compound_score\": 0.010236053034333017, \"topic\": \"Rising Prices\"}, {\"index\": 56, \"period\": \"2021-06\", \"compound_score\": -0.01416860854927296, \"topic\": \"Rising Prices\"}, {\"index\": 57, \"period\": \"2021-07\", \"compound_score\": -0.029041736068260285, \"topic\": \"Rising Prices\"}, {\"index\": 58, \"period\": \"2021-08\", \"compound_score\": -0.023371637677045365, \"topic\": \"Rising Prices\"}, {\"index\": 59, \"period\": \"2021-09\", \"compound_score\": -0.0077303671113104905, \"topic\": \"Rising Prices\"}, {\"index\": 60, \"period\": \"2021-10\", \"compound_score\": -0.011618031887229582, \"topic\": \"Rising Prices\"}, {\"index\": 61, \"period\": \"2021-11\", \"compound_score\": -0.01247780328772502, \"topic\": \"Rising Prices\"}, {\"index\": 62, \"period\": \"2021-12\", \"compound_score\": 0.026561739067266776, \"topic\": \"Rising Prices\"}, {\"index\": 63, \"period\": \"2022-01\", \"compound_score\": -0.014880004966749447, \"topic\": \"Rising Prices\"}, {\"index\": 64, \"period\": \"2022-02\", \"compound_score\": -0.0061052221190699, \"topic\": \"Rising Prices\"}, {\"index\": 65, \"period\": \"2022-03\", \"compound_score\": -0.06354129758449827, \"topic\": \"Rising Prices\"}, {\"index\": 66, \"period\": \"2022-04\", \"compound_score\": -0.03774560450342152, \"topic\": \"Rising Prices\"}, {\"index\": 67, \"period\": \"2022-05\", \"compound_score\": -0.035421072332710794, \"topic\": \"Rising Prices\"}, {\"index\": 68, \"period\": \"2022-06\", \"compound_score\": -0.05483007237018599, \"topic\": \"Rising Prices\"}, {\"index\": 69, \"period\": \"2022-07\", \"compound_score\": -0.028746971129338862, \"topic\": \"Rising Prices\"}, {\"index\": 70, \"period\": \"2022-08\", \"compound_score\": 0.007900673118080404, \"topic\": \"Rising Prices\"}, {\"index\": 71, \"period\": \"2022-09\", \"compound_score\": -0.0009727471601276988, \"topic\": \"Rising Prices\"}, {\"index\": 72, \"period\": \"2022-10\", \"compound_score\": -0.039877049279862846, \"topic\": \"Rising Prices\"}, {\"index\": 0, \"period\": \"2016-10\", \"compound_score\": -0.07549995804185897, \"topic\": \"Rise in Housing Price\"}, {\"index\": 1, \"period\": \"2016-11\", \"compound_score\": -0.07462018872968992, \"topic\": \"Rise in Housing Price\"}, {\"index\": 2, \"period\": \"2016-12\", \"compound_score\": -0.06581756752133586, \"topic\": \"Rise in Housing Price\"}, {\"index\": 3, \"period\": \"2017-01\", \"compound_score\": -0.01599898335203484, \"topic\": \"Rise in Housing Price\"}, {\"index\": 4, \"period\": \"2017-02\", \"compound_score\": -0.04694637385908304, \"topic\": \"Rise in Housing Price\"}, {\"index\": 5, \"period\": \"2017-03\", \"compound_score\": -0.0308903787404379, \"topic\": \"Rise in Housing Price\"}, {\"index\": 6, \"period\": \"2017-04\", \"compound_score\": -0.1263104207199222, \"topic\": \"Rise in Housing Price\"}, {\"index\": 7, \"period\": \"2017-05\", \"compound_score\": -0.10574584931367986, \"topic\": \"Rise in Housing Price\"}, {\"index\": 8, \"period\": \"2017-06\", \"compound_score\": -0.05394020258167889, \"topic\": \"Rise in Housing Price\"}, {\"index\": 9, \"period\": \"2017-07\", \"compound_score\": 0.04968203411501354, \"topic\": \"Rise in Housing Price\"}, {\"index\": 10, \"period\": \"2017-08\", \"compound_score\": -0.011079233041860342, \"topic\": \"Rise in Housing Price\"}, {\"index\": 11, \"period\": \"2017-09\", \"compound_score\": 0.019874954995863753, \"topic\": \"Rise in Housing Price\"}, {\"index\": 12, \"period\": \"2017-10\", \"compound_score\": -0.05534073570143336, \"topic\": \"Rise in Housing Price\"}, {\"index\": 13, \"period\": \"2017-11\", \"compound_score\": 0.01039488005337813, \"topic\": \"Rise in Housing Price\"}, {\"index\": 14, \"period\": \"2017-12\", \"compound_score\": 0.018336976508756597, \"topic\": \"Rise in Housing Price\"}, {\"index\": 15, \"period\": \"2018-01\", \"compound_score\": 0.12517843536360385, \"topic\": \"Rise in Housing Price\"}, {\"index\": 16, \"period\": \"2018-02\", \"compound_score\": 0.03545904207884454, \"topic\": \"Rise in Housing Price\"}, {\"index\": 17, \"period\": \"2018-03\", \"compound_score\": 0.10198041207896141, \"topic\": \"Rise in Housing Price\"}, {\"index\": 18, \"period\": \"2018-04\", \"compound_score\": -0.053954358041859274, \"topic\": \"Rise in Housing Price\"}, {\"index\": 19, \"period\": \"2018-05\", \"compound_score\": -0.044161646858362824, \"topic\": \"Rise in Housing Price\"}, {\"index\": 20, \"period\": \"2018-06\", \"compound_score\": -0.043337809755255, \"topic\": \"Rise in Housing Price\"}, {\"index\": 21, \"period\": \"2018-07\", \"compound_score\": -0.022748552373843683, \"topic\": \"Rise in Housing Price\"}, {\"index\": 22, \"period\": \"2018-08\", \"compound_score\": -0.02157598861510651, \"topic\": \"Rise in Housing Price\"}, {\"index\": 23, \"period\": \"2018-09\", \"compound_score\": 0.008596512516518023, \"topic\": \"Rise in Housing Price\"}, {\"index\": 24, \"period\": \"2018-10\", \"compound_score\": 0.0062793493353966445, \"topic\": \"Rise in Housing Price\"}, {\"index\": 25, \"period\": \"2018-11\", \"compound_score\": -0.011148347889574889, \"topic\": \"Rise in Housing Price\"}, {\"index\": 26, \"period\": \"2018-12\", \"compound_score\": 0.02008277525662383, \"topic\": \"Rise in Housing Price\"}, {\"index\": 27, \"period\": \"2019-01\", \"compound_score\": 0.05562124355885284, \"topic\": \"Rise in Housing Price\"}, {\"index\": 28, \"period\": \"2019-02\", \"compound_score\": 0.05221900065379392, \"topic\": \"Rise in Housing Price\"}, {\"index\": 29, \"period\": \"2019-03\", \"compound_score\": 0.04859419933519038, \"topic\": \"Rise in Housing Price\"}, {\"index\": 30, \"period\": \"2019-04\", \"compound_score\": 0.05482582681337378, \"topic\": \"Rise in Housing Price\"}, {\"index\": 31, \"period\": \"2019-05\", \"compound_score\": 0.02813016700824078, \"topic\": \"Rise in Housing Price\"}, {\"index\": 32, \"period\": \"2019-06\", \"compound_score\": 0.04368000249836279, \"topic\": \"Rise in Housing Price\"}, {\"index\": 33, \"period\": \"2019-07\", \"compound_score\": 0.01716241557468648, \"topic\": \"Rise in Housing Price\"}, {\"index\": 34, \"period\": \"2019-08\", \"compound_score\": 0.004202446886271721, \"topic\": \"Rise in Housing Price\"}, {\"index\": 35, \"period\": \"2019-09\", \"compound_score\": 0.08337390591250332, \"topic\": \"Rise in Housing Price\"}, {\"index\": 36, \"period\": \"2019-10\", \"compound_score\": -0.030007557203285323, \"topic\": \"Rise in Housing Price\"}, {\"index\": 37, \"period\": \"2019-11\", \"compound_score\": 0.02811490059937999, \"topic\": \"Rise in Housing Price\"}, {\"index\": 38, \"period\": \"2019-12\", \"compound_score\": 0.058539420542533416, \"topic\": \"Rise in Housing Price\"}, {\"index\": 39, \"period\": \"2020-01\", \"compound_score\": 0.04857854799840827, \"topic\": \"Rise in Housing Price\"}, {\"index\": 40, \"period\": \"2020-02\", \"compound_score\": 0.016150061390559356, \"topic\": \"Rise in Housing Price\"}, {\"index\": 41, \"period\": \"2020-03\", \"compound_score\": 0.056279945293571276, \"topic\": \"Rise in Housing Price\"}, {\"index\": 42, \"period\": \"2020-04\", \"compound_score\": 0.016570282650780893, \"topic\": \"Rise in Housing Price\"}, {\"index\": 43, \"period\": \"2020-05\", \"compound_score\": -0.06256460599169059, \"topic\": \"Rise in Housing Price\"}, {\"index\": 44, \"period\": \"2020-06\", \"compound_score\": -0.014570585641597938, \"topic\": \"Rise in Housing Price\"}, {\"index\": 45, \"period\": \"2020-07\", \"compound_score\": 0.021035209525707782, \"topic\": \"Rise in Housing Price\"}, {\"index\": 46, \"period\": \"2020-08\", \"compound_score\": -0.01959163142604342, \"topic\": \"Rise in Housing Price\"}, {\"index\": 47, \"period\": \"2020-09\", \"compound_score\": -0.08646734377652188, \"topic\": \"Rise in Housing Price\"}, {\"index\": 48, \"period\": \"2020-10\", \"compound_score\": -0.0445524172572552, \"topic\": \"Rise in Housing Price\"}, {\"index\": 49, \"period\": \"2020-11\", \"compound_score\": 0.022078626298184717, \"topic\": \"Rise in Housing Price\"}, {\"index\": 50, \"period\": \"2020-12\", \"compound_score\": 0.0834555182803553, \"topic\": \"Rise in Housing Price\"}, {\"index\": 51, \"period\": \"2021-01\", \"compound_score\": 0.06255773233903367, \"topic\": \"Rise in Housing Price\"}, {\"index\": 52, \"period\": \"2021-02\", \"compound_score\": -0.018464639833293023, \"topic\": \"Rise in Housing Price\"}, {\"index\": 53, \"period\": \"2021-03\", \"compound_score\": -0.023097527533384232, \"topic\": \"Rise in Housing Price\"}, {\"index\": 54, \"period\": \"2021-04\", \"compound_score\": 0.031155055821133315, \"topic\": \"Rise in Housing Price\"}, {\"index\": 55, \"period\": \"2021-05\", \"compound_score\": 0.0687805243761247, \"topic\": \"Rise in Housing Price\"}, {\"index\": 56, \"period\": \"2021-06\", \"compound_score\": 0.01134044968139239, \"topic\": \"Rise in Housing Price\"}, {\"index\": 57, \"period\": \"2021-07\", \"compound_score\": -0.028661422131376485, \"topic\": \"Rise in Housing Price\"}, {\"index\": 58, \"period\": \"2021-08\", \"compound_score\": -0.10441226849824156, \"topic\": \"Rise in Housing Price\"}, {\"index\": 59, \"period\": \"2021-09\", \"compound_score\": -0.007634434333504081, \"topic\": \"Rise in Housing Price\"}, {\"index\": 60, \"period\": \"2021-10\", \"compound_score\": 0.04506666718749808, \"topic\": \"Rise in Housing Price\"}, {\"index\": 61, \"period\": \"2021-11\", \"compound_score\": -7.723485061769675e-05, \"topic\": \"Rise in Housing Price\"}, {\"index\": 62, \"period\": \"2021-12\", \"compound_score\": 0.033504775437354306, \"topic\": \"Rise in Housing Price\"}, {\"index\": 63, \"period\": \"2022-01\", \"compound_score\": -0.042637165354762585, \"topic\": \"Rise in Housing Price\"}, {\"index\": 64, \"period\": \"2022-02\", \"compound_score\": 0.016260226763302466, \"topic\": \"Rise in Housing Price\"}, {\"index\": 65, \"period\": \"2022-03\", \"compound_score\": 0.006225987267106936, \"topic\": \"Rise in Housing Price\"}, {\"index\": 66, \"period\": \"2022-04\", \"compound_score\": -0.034895414421681065, \"topic\": \"Rise in Housing Price\"}, {\"index\": 67, \"period\": \"2022-05\", \"compound_score\": 0.06116364757449172, \"topic\": \"Rise in Housing Price\"}, {\"index\": 68, \"period\": \"2022-06\", \"compound_score\": -0.049325974320929694, \"topic\": \"Rise in Housing Price\"}, {\"index\": 69, \"period\": \"2022-07\", \"compound_score\": -0.01773272336693313, \"topic\": \"Rise in Housing Price\"}, {\"index\": 70, \"period\": \"2022-08\", \"compound_score\": -0.09142731721534234, \"topic\": \"Rise in Housing Price\"}, {\"index\": 71, \"period\": \"2022-09\", \"compound_score\": 0.06084452802854873, \"topic\": \"Rise in Housing Price\"}, {\"index\": 72, \"period\": \"2022-10\", \"compound_score\": 0.0038601706937743674, \"topic\": \"Rise in Housing Price\"}, {\"index\": 0, \"period\": \"2016-10\", \"compound_score\": -0.024605736095968854, \"topic\": \"inflation\"}, {\"index\": 1, \"period\": \"2016-11\", \"compound_score\": 0.007935564752117628, \"topic\": \"inflation\"}, {\"index\": 2, \"period\": \"2016-12\", \"compound_score\": -0.0036289050163878017, \"topic\": \"inflation\"}, {\"index\": 3, \"period\": \"2017-01\", \"compound_score\": 0.0006468965293547277, \"topic\": \"inflation\"}, {\"index\": 4, \"period\": \"2017-02\", \"compound_score\": 0.0005426198588301661, \"topic\": \"inflation\"}, {\"index\": 5, \"period\": \"2017-03\", \"compound_score\": 0.0022840144398608066, \"topic\": \"inflation\"}, {\"index\": 6, \"period\": \"2017-04\", \"compound_score\": 0.006510023123364683, \"topic\": \"inflation\"}, {\"index\": 7, \"period\": \"2017-05\", \"compound_score\": 0.0010005186726949854, \"topic\": \"inflation\"}, {\"index\": 8, \"period\": \"2017-06\", \"compound_score\": -0.01593710112127731, \"topic\": \"inflation\"}, {\"index\": 9, \"period\": \"2017-07\", \"compound_score\": -0.019469423899336376, \"topic\": \"inflation\"}, {\"index\": 10, \"period\": \"2017-08\", \"compound_score\": -0.02803571882062482, \"topic\": \"inflation\"}, {\"index\": 11, \"period\": \"2017-09\", \"compound_score\": -0.005774311019506805, \"topic\": \"inflation\"}, {\"index\": 12, \"period\": \"2017-10\", \"compound_score\": 0.004837453937909164, \"topic\": \"inflation\"}, {\"index\": 13, \"period\": \"2017-11\", \"compound_score\": -0.0002585931286357059, \"topic\": \"inflation\"}, {\"index\": 14, \"period\": \"2017-12\", \"compound_score\": 0.021053023292598155, \"topic\": \"inflation\"}, {\"index\": 15, \"period\": \"2018-01\", \"compound_score\": 0.0187904688933452, \"topic\": \"inflation\"}, {\"index\": 16, \"period\": \"2018-02\", \"compound_score\": 0.00548811478049277, \"topic\": \"inflation\"}, {\"index\": 17, \"period\": \"2018-03\", \"compound_score\": 0.020474837204379277, \"topic\": \"inflation\"}, {\"index\": 18, \"period\": \"2018-04\", \"compound_score\": 0.018916422230904846, \"topic\": \"inflation\"}, {\"index\": 19, \"period\": \"2018-05\", \"compound_score\": 0.009274254145268362, \"topic\": \"inflation\"}, {\"index\": 20, \"period\": \"2018-06\", \"compound_score\": 0.020048761317639895, \"topic\": \"inflation\"}, {\"index\": 21, \"period\": \"2018-07\", \"compound_score\": 0.01870363590982573, \"topic\": \"inflation\"}, {\"index\": 22, \"period\": \"2018-08\", \"compound_score\": 0.01438577364771829, \"topic\": \"inflation\"}, {\"index\": 23, \"period\": \"2018-09\", \"compound_score\": 0.008344461216245613, \"topic\": \"inflation\"}, {\"index\": 24, \"period\": \"2018-10\", \"compound_score\": 0.008702274609149421, \"topic\": \"inflation\"}, {\"index\": 25, \"period\": \"2018-11\", \"compound_score\": 0.021762509982263176, \"topic\": \"inflation\"}, {\"index\": 26, \"period\": \"2018-12\", \"compound_score\": 0.01593432186400393, \"topic\": \"inflation\"}, {\"index\": 27, \"period\": \"2019-01\", \"compound_score\": 0.018367720843955288, \"topic\": \"inflation\"}, {\"index\": 28, \"period\": \"2019-02\", \"compound_score\": 0.03098890310238776, \"topic\": \"inflation\"}, {\"index\": 29, \"period\": \"2019-03\", \"compound_score\": 0.025795125383535584, \"topic\": \"inflation\"}, {\"index\": 30, \"period\": \"2019-04\", \"compound_score\": 0.017987754108412076, \"topic\": \"inflation\"}, {\"index\": 31, \"period\": \"2019-05\", \"compound_score\": 0.00768885554940207, \"topic\": \"inflation\"}, {\"index\": 32, \"period\": \"2019-06\", \"compound_score\": 0.019315642549458726, \"topic\": \"inflation\"}, {\"index\": 33, \"period\": \"2019-07\", \"compound_score\": 0.04538786618359768, \"topic\": \"inflation\"}, {\"index\": 34, \"period\": \"2019-08\", \"compound_score\": 0.007372186747748782, \"topic\": \"inflation\"}, {\"index\": 35, \"period\": \"2019-09\", \"compound_score\": 0.013100136470582911, \"topic\": \"inflation\"}, {\"index\": 36, \"period\": \"2019-10\", \"compound_score\": 0.016274280086742466, \"topic\": \"inflation\"}, {\"index\": 37, \"period\": \"2019-11\", \"compound_score\": 0.024745314094869634, \"topic\": \"inflation\"}, {\"index\": 38, \"period\": \"2019-12\", \"compound_score\": 0.013864233749509208, \"topic\": \"inflation\"}, {\"index\": 39, \"period\": \"2020-01\", \"compound_score\": 0.02045157515854538, \"topic\": \"inflation\"}, {\"index\": 40, \"period\": \"2020-02\", \"compound_score\": 0.03566622179519137, \"topic\": \"inflation\"}, {\"index\": 41, \"period\": \"2020-03\", \"compound_score\": -0.0007179969956608613, \"topic\": \"inflation\"}, {\"index\": 42, \"period\": \"2020-04\", \"compound_score\": -0.0009783598630714492, \"topic\": \"inflation\"}, {\"index\": 43, \"period\": \"2020-05\", \"compound_score\": 0.0027133883563790068, \"topic\": \"inflation\"}, {\"index\": 44, \"period\": \"2020-06\", \"compound_score\": 0.0006368941239711014, \"topic\": \"inflation\"}, {\"index\": 45, \"period\": \"2020-07\", \"compound_score\": 0.016447061000212194, \"topic\": \"inflation\"}, {\"index\": 46, \"period\": \"2020-08\", \"compound_score\": 0.027391191780545516, \"topic\": \"inflation\"}, {\"index\": 47, \"period\": \"2020-09\", \"compound_score\": 0.018050816554523074, \"topic\": \"inflation\"}, {\"index\": 48, \"period\": \"2020-10\", \"compound_score\": 0.029245469091917792, \"topic\": \"inflation\"}, {\"index\": 49, \"period\": \"2020-11\", \"compound_score\": 0.027388857913509843, \"topic\": \"inflation\"}, {\"index\": 50, \"period\": \"2020-12\", \"compound_score\": 0.032571979126961595, \"topic\": \"inflation\"}, {\"index\": 51, \"period\": \"2021-01\", \"compound_score\": 0.04091923353366769, \"topic\": \"inflation\"}, {\"index\": 52, \"period\": \"2021-02\", \"compound_score\": 0.022572784187515547, \"topic\": \"inflation\"}, {\"index\": 53, \"period\": \"2021-03\", \"compound_score\": 0.024768990436185936, \"topic\": \"inflation\"}, {\"index\": 54, \"period\": \"2021-04\", \"compound_score\": 0.03657142188910384, \"topic\": \"inflation\"}, {\"index\": 55, \"period\": \"2021-05\", \"compound_score\": -0.009561892742869253, \"topic\": \"inflation\"}, {\"index\": 56, \"period\": \"2021-06\", \"compound_score\": 0.003748307640860628, \"topic\": \"inflation\"}, {\"index\": 57, \"period\": \"2021-07\", \"compound_score\": -0.004482300650068794, \"topic\": \"inflation\"}, {\"index\": 58, \"period\": \"2021-08\", \"compound_score\": -0.023519636597522476, \"topic\": \"inflation\"}, {\"index\": 59, \"period\": \"2021-09\", \"compound_score\": -0.026062240357981024, \"topic\": \"inflation\"}, {\"index\": 60, \"period\": \"2021-10\", \"compound_score\": -0.031959751602878686, \"topic\": \"inflation\"}, {\"index\": 61, \"period\": \"2021-11\", \"compound_score\": -0.01786209704007025, \"topic\": \"inflation\"}, {\"index\": 62, \"period\": \"2021-12\", \"compound_score\": -0.02460729138050502, \"topic\": \"inflation\"}, {\"index\": 63, \"period\": \"2022-01\", \"compound_score\": -0.03154053097748592, \"topic\": \"inflation\"}, {\"index\": 64, \"period\": \"2022-02\", \"compound_score\": -0.04343891888798469, \"topic\": \"inflation\"}, {\"index\": 65, \"period\": \"2022-03\", \"compound_score\": -0.06502762732799681, \"topic\": \"inflation\"}, {\"index\": 66, \"period\": \"2022-04\", \"compound_score\": -0.05506246927986791, \"topic\": \"inflation\"}, {\"index\": 67, \"period\": \"2022-05\", \"compound_score\": -0.06535034182267699, \"topic\": \"inflation\"}, {\"index\": 68, \"period\": \"2022-06\", \"compound_score\": -0.07826621169777848, \"topic\": \"inflation\"}, {\"index\": 69, \"period\": \"2022-07\", \"compound_score\": -0.06204122524940242, \"topic\": \"inflation\"}, {\"index\": 70, \"period\": \"2022-08\", \"compound_score\": -0.03405270583127027, \"topic\": \"inflation\"}, {\"index\": 71, \"period\": \"2022-09\", \"compound_score\": -0.06280288735720617, \"topic\": \"inflation\"}, {\"index\": 72, \"period\": \"2022-10\", \"compound_score\": -0.07062388710322438, \"topic\": \"inflation\"}]}}, {\"mode\": \"vega-lite\"});\n",
       "</script>"
      ],
      "text/plain": [
       "alt.Chart(...)"
      ]
     },
     "execution_count": 139,
     "metadata": {},
     "output_type": "execute_result"
    }
   ],
   "source": [
    "alt.Chart(new_inflation_rise_house).mark_line().encode(\n",
    "    x = alt.X('period:O', axis=alt.Axis(title='Time')),\n",
    "    y = alt.Y('compound_score', axis=alt.Axis(title='Average compound sentiment score'), scale=alt.Scale(domain=[-0.2,.4])),\n",
    "    color=alt.Color('topic:N')\n",
    ").properties(width=800, title={\n",
    "      \"text\": ['Average global score sentiment over the months (2016-2022)'], \n",
    "      \"subtitle\": [\"Standardized to Mean of 0\"],\n",
    "    })\n",
    "    "
   ]
  },
  {
   "cell_type": "code",
   "execution_count": null,
   "id": "e7b63273",
   "metadata": {},
   "outputs": [],
   "source": []
  },
  {
   "cell_type": "code",
   "execution_count": 140,
   "id": "c6f38f11",
   "metadata": {},
   "outputs": [],
   "source": [
    "# standardize to variance = 1\n",
    "x1_std = np.array(rise_price_g_corrected.values.tolist())\n",
    "x2_std = np.array(house_price_g_corrected.values.tolist())\n",
    "x3_std = np.array(inflation_g_corrected.values.tolist())\n",
    "\n",
    "x1_std = x1_std.reshape(-1, 1)\n",
    "x2_std = x2_std.reshape(-1, 1)\n",
    "x3_std = x3_std.reshape(-1, 1)\n",
    "\n",
    "x1_std = StandardScaler().fit_transform(x1_std)\n",
    "x2_std = StandardScaler().fit_transform(x2_std)\n",
    "x3_std = StandardScaler().fit_transform(x3_std)\n"
   ]
  },
  {
   "cell_type": "code",
   "execution_count": 141,
   "id": "da942547",
   "metadata": {},
   "outputs": [],
   "source": [
    "new_rise_price_g = rise_price_g.copy()\n",
    "new_rise_price_g['compound_score'] = x1_std \n",
    "\n",
    "new_house_price_g = house_price_g.copy()\n",
    "new_house_price_g['compound_score'] = x2_std \n",
    "\n",
    "new_inflation_sent_g = inflation_sent_g.copy()\n",
    "new_inflation_sent_g['compound_score'] = x3_std "
   ]
  },
  {
   "cell_type": "code",
   "execution_count": 142,
   "id": "36861344",
   "metadata": {},
   "outputs": [],
   "source": [
    "new_inflation_rise_house = pd.concat([new_rise_price_g, new_house_price_g, new_inflation_sent_g],ignore_index = False).reset_index()"
   ]
  },
  {
   "cell_type": "code",
   "execution_count": 143,
   "id": "1826cf4e",
   "metadata": {},
   "outputs": [
    {
     "data": {
      "text/html": [
       "\n",
       "<div id=\"altair-viz-a2b6c47f9b27469faf92822dcfb8488c\"></div>\n",
       "<script type=\"text/javascript\">\n",
       "  (function(spec, embedOpt){\n",
       "    let outputDiv = document.currentScript.previousElementSibling;\n",
       "    if (outputDiv.id !== \"altair-viz-a2b6c47f9b27469faf92822dcfb8488c\") {\n",
       "      outputDiv = document.getElementById(\"altair-viz-a2b6c47f9b27469faf92822dcfb8488c\");\n",
       "    }\n",
       "    const paths = {\n",
       "      \"vega\": \"https://cdn.jsdelivr.net/npm//vega@5?noext\",\n",
       "      \"vega-lib\": \"https://cdn.jsdelivr.net/npm//vega-lib?noext\",\n",
       "      \"vega-lite\": \"https://cdn.jsdelivr.net/npm//vega-lite@4.8.1?noext\",\n",
       "      \"vega-embed\": \"https://cdn.jsdelivr.net/npm//vega-embed@6?noext\",\n",
       "    };\n",
       "\n",
       "    function loadScript(lib) {\n",
       "      return new Promise(function(resolve, reject) {\n",
       "        var s = document.createElement('script');\n",
       "        s.src = paths[lib];\n",
       "        s.async = true;\n",
       "        s.onload = () => resolve(paths[lib]);\n",
       "        s.onerror = () => reject(`Error loading script: ${paths[lib]}`);\n",
       "        document.getElementsByTagName(\"head\")[0].appendChild(s);\n",
       "      });\n",
       "    }\n",
       "\n",
       "    function showError(err) {\n",
       "      outputDiv.innerHTML = `<div class=\"error\" style=\"color:red;\">${err}</div>`;\n",
       "      throw err;\n",
       "    }\n",
       "\n",
       "    function displayChart(vegaEmbed) {\n",
       "      vegaEmbed(outputDiv, spec, embedOpt)\n",
       "        .catch(err => showError(`Javascript Error: ${err.message}<br>This usually means there's a typo in your chart specification. See the javascript console for the full traceback.`));\n",
       "    }\n",
       "\n",
       "    if(typeof define === \"function\" && define.amd) {\n",
       "      requirejs.config({paths});\n",
       "      require([\"vega-embed\"], displayChart, err => showError(`Error loading script: ${err.message}`));\n",
       "    } else if (typeof vegaEmbed === \"function\") {\n",
       "      displayChart(vegaEmbed);\n",
       "    } else {\n",
       "      loadScript(\"vega\")\n",
       "        .then(() => loadScript(\"vega-lite\"))\n",
       "        .then(() => loadScript(\"vega-embed\"))\n",
       "        .catch(showError)\n",
       "        .then(() => displayChart(vegaEmbed));\n",
       "    }\n",
       "  })({\"config\": {\"view\": {\"continuousWidth\": 400, \"continuousHeight\": 300}}, \"data\": {\"name\": \"data-77fb375b8548ae789101c004cf5be595\"}, \"mark\": \"line\", \"encoding\": {\"color\": {\"type\": \"nominal\", \"field\": \"topic\"}, \"x\": {\"type\": \"ordinal\", \"axis\": {\"title\": \"Time\"}, \"field\": \"period\"}, \"y\": {\"type\": \"quantitative\", \"axis\": {\"title\": \"Average compound sentiment score\"}, \"field\": \"compound_score\", \"scale\": {\"domain\": [-5, 5]}}}, \"title\": {\"text\": [\"Average global score sentiment over the months (2016-2022)\"], \"subtitle\": [\"Standardized to Mean of 0 and Variance of 1\"]}, \"width\": 800, \"$schema\": \"https://vega.github.io/schema/vega-lite/v4.8.1.json\", \"datasets\": {\"data-77fb375b8548ae789101c004cf5be595\": [{\"index\": 0, \"period\": \"2016-10\", \"compound_score\": -1.7871876733039045, \"topic\": \"Rising Prices\"}, {\"index\": 1, \"period\": \"2016-11\", \"compound_score\": -0.7628829801623385, \"topic\": \"Rising Prices\"}, {\"index\": 2, \"period\": \"2016-12\", \"compound_score\": -1.0478940600798685, \"topic\": \"Rising Prices\"}, {\"index\": 3, \"period\": \"2017-01\", \"compound_score\": -1.3072051552967312, \"topic\": \"Rising Prices\"}, {\"index\": 4, \"period\": \"2017-02\", \"compound_score\": 1.3670866010996, \"topic\": \"Rising Prices\"}, {\"index\": 5, \"period\": \"2017-03\", \"compound_score\": -1.2312825785889963, \"topic\": \"Rising Prices\"}, {\"index\": 6, \"period\": \"2017-04\", \"compound_score\": -2.561169662278204, \"topic\": \"Rising Prices\"}, {\"index\": 7, \"period\": \"2017-05\", \"compound_score\": -1.2181384778358708, \"topic\": \"Rising Prices\"}, {\"index\": 8, \"period\": \"2017-06\", \"compound_score\": -1.3903449138154178, \"topic\": \"Rising Prices\"}, {\"index\": 9, \"period\": \"2017-07\", \"compound_score\": 1.0898043125688732, \"topic\": \"Rising Prices\"}, {\"index\": 10, \"period\": \"2017-08\", \"compound_score\": -1.204452951136897, \"topic\": \"Rising Prices\"}, {\"index\": 11, \"period\": \"2017-09\", \"compound_score\": -1.490763727386333, \"topic\": \"Rising Prices\"}, {\"index\": 12, \"period\": \"2017-10\", \"compound_score\": -1.22830773554129, \"topic\": \"Rising Prices\"}, {\"index\": 13, \"period\": \"2017-11\", \"compound_score\": -0.6690489584087256, \"topic\": \"Rising Prices\"}, {\"index\": 14, \"period\": \"2017-12\", \"compound_score\": -0.3430087545922811, \"topic\": \"Rising Prices\"}, {\"index\": 15, \"period\": \"2018-01\", \"compound_score\": 2.21079813971807, \"topic\": \"Rising Prices\"}, {\"index\": 16, \"period\": \"2018-02\", \"compound_score\": 1.1967843689716562, \"topic\": \"Rising Prices\"}, {\"index\": 17, \"period\": \"2018-03\", \"compound_score\": 1.6520521157486132, \"topic\": \"Rising Prices\"}, {\"index\": 18, \"period\": \"2018-04\", \"compound_score\": 1.3579943113123825, \"topic\": \"Rising Prices\"}, {\"index\": 19, \"period\": \"2018-05\", \"compound_score\": -0.1662660744944771, \"topic\": \"Rising Prices\"}, {\"index\": 20, \"period\": \"2018-06\", \"compound_score\": -0.40806300829414394, \"topic\": \"Rising Prices\"}, {\"index\": 21, \"period\": \"2018-07\", \"compound_score\": -0.5048535133173794, \"topic\": \"Rising Prices\"}, {\"index\": 22, \"period\": \"2018-08\", \"compound_score\": 0.5252293135099827, \"topic\": \"Rising Prices\"}, {\"index\": 23, \"period\": \"2018-09\", \"compound_score\": -0.3706970709016876, \"topic\": \"Rising Prices\"}, {\"index\": 24, \"period\": \"2018-10\", \"compound_score\": -0.8637459812653631, \"topic\": \"Rising Prices\"}, {\"index\": 25, \"period\": \"2018-11\", \"compound_score\": -1.049359525800425, \"topic\": \"Rising Prices\"}, {\"index\": 26, \"period\": \"2018-12\", \"compound_score\": -0.514531236603802, \"topic\": \"Rising Prices\"}, {\"index\": 27, \"period\": \"2019-01\", \"compound_score\": 1.1403419153575143, \"topic\": \"Rising Prices\"}, {\"index\": 28, \"period\": \"2019-02\", \"compound_score\": 1.3195001285371455, \"topic\": \"Rising Prices\"}, {\"index\": 29, \"period\": \"2019-03\", \"compound_score\": 1.1724335243034625, \"topic\": \"Rising Prices\"}, {\"index\": 30, \"period\": \"2019-04\", \"compound_score\": 0.3669404122170329, \"topic\": \"Rising Prices\"}, {\"index\": 31, \"period\": \"2019-05\", \"compound_score\": 0.27291314394323607, \"topic\": \"Rising Prices\"}, {\"index\": 32, \"period\": \"2019-06\", \"compound_score\": 0.6920428061416497, \"topic\": \"Rising Prices\"}, {\"index\": 33, \"period\": \"2019-07\", \"compound_score\": 0.9870450724280825, \"topic\": \"Rising Prices\"}, {\"index\": 34, \"period\": \"2019-08\", \"compound_score\": -0.03282519642582778, \"topic\": \"Rising Prices\"}, {\"index\": 35, \"period\": \"2019-09\", \"compound_score\": 0.21296785963992543, \"topic\": \"Rising Prices\"}, {\"index\": 36, \"period\": \"2019-10\", \"compound_score\": 0.4054475150588468, \"topic\": \"Rising Prices\"}, {\"index\": 37, \"period\": \"2019-11\", \"compound_score\": 0.41397029297964255, \"topic\": \"Rising Prices\"}, {\"index\": 38, \"period\": \"2019-12\", \"compound_score\": 1.0435144954207478, \"topic\": \"Rising Prices\"}, {\"index\": 39, \"period\": \"2020-01\", \"compound_score\": 0.13069301345265608, \"topic\": \"Rising Prices\"}, {\"index\": 40, \"period\": \"2020-02\", \"compound_score\": 1.7911664429889906, \"topic\": \"Rising Prices\"}, {\"index\": 41, \"period\": \"2020-03\", \"compound_score\": 0.8438974203998894, \"topic\": \"Rising Prices\"}, {\"index\": 42, \"period\": \"2020-04\", \"compound_score\": 1.2421467087232765, \"topic\": \"Rising Prices\"}, {\"index\": 43, \"period\": \"2020-05\", \"compound_score\": 0.5298292110553968, \"topic\": \"Rising Prices\"}, {\"index\": 44, \"period\": \"2020-06\", \"compound_score\": -0.26619811983068914, \"topic\": \"Rising Prices\"}, {\"index\": 45, \"period\": \"2020-07\", \"compound_score\": 0.7516691492831409, \"topic\": \"Rising Prices\"}, {\"index\": 46, \"period\": \"2020-08\", \"compound_score\": 0.6909446771024, \"topic\": \"Rising Prices\"}, {\"index\": 47, \"period\": \"2020-09\", \"compound_score\": 0.7630655868359704, \"topic\": \"Rising Prices\"}, {\"index\": 48, \"period\": \"2020-10\", \"compound_score\": 0.9240359072138106, \"topic\": \"Rising Prices\"}, {\"index\": 49, \"period\": \"2020-11\", \"compound_score\": 1.2925511099119846, \"topic\": \"Rising Prices\"}, {\"index\": 50, \"period\": \"2020-12\", \"compound_score\": 1.703538009410304, \"topic\": \"Rising Prices\"}, {\"index\": 51, \"period\": \"2021-01\", \"compound_score\": 1.4380243338622858, \"topic\": \"Rising Prices\"}, {\"index\": 52, \"period\": \"2021-02\", \"compound_score\": -0.688442633906873, \"topic\": \"Rising Prices\"}, {\"index\": 53, \"period\": \"2021-03\", \"compound_score\": -0.012232968464933823, \"topic\": \"Rising Prices\"}, {\"index\": 54, \"period\": \"2021-04\", \"compound_score\": -0.12251856308040587, \"topic\": \"Rising Prices\"}, {\"index\": 55, \"period\": \"2021-05\", \"compound_score\": 0.25258701486467894, \"topic\": \"Rising Prices\"}, {\"index\": 56, \"period\": \"2021-06\", \"compound_score\": -0.3496275885092864, \"topic\": \"Rising Prices\"}, {\"index\": 57, \"period\": \"2021-07\", \"compound_score\": -0.7166400364833312, \"topic\": \"Rising Prices\"}, {\"index\": 58, \"period\": \"2021-08\", \"compound_score\": -0.576723486439849, \"topic\": \"Rising Prices\"}, {\"index\": 59, \"period\": \"2021-09\", \"compound_score\": -0.190756177786962, \"topic\": \"Rising Prices\"}, {\"index\": 60, \"period\": \"2021-10\", \"compound_score\": -0.2866890180380137, \"topic\": \"Rising Prices\"}, {\"index\": 61, \"period\": \"2021-11\", \"compound_score\": -0.3079049194004589, \"topic\": \"Rising Prices\"}, {\"index\": 62, \"period\": \"2021-12\", \"compound_score\": 0.6554431046920225, \"topic\": \"Rising Prices\"}, {\"index\": 63, \"period\": \"2022-01\", \"compound_score\": -0.3671821573331398, \"topic\": \"Rising Prices\"}, {\"index\": 64, \"period\": \"2022-02\", \"compound_score\": -0.15065375540447776, \"topic\": \"Rising Prices\"}, {\"index\": 65, \"period\": \"2022-03\", \"compound_score\": -1.567958530857927, \"topic\": \"Rising Prices\"}, {\"index\": 66, \"period\": \"2022-04\", \"compound_score\": -0.931418539333823, \"topic\": \"Rising Prices\"}, {\"index\": 67, \"period\": \"2022-05\", \"compound_score\": -0.8740578906553362, \"topic\": \"Rising Prices\"}, {\"index\": 68, \"period\": \"2022-06\", \"compound_score\": -1.3529984905653618, \"topic\": \"Rising Prices\"}, {\"index\": 69, \"period\": \"2022-07\", \"compound_score\": -0.709366354356128, \"topic\": \"Rising Prices\"}, {\"index\": 70, \"period\": \"2022-08\", \"compound_score\": 0.1949586849173236, \"topic\": \"Rising Prices\"}, {\"index\": 71, \"period\": \"2022-09\", \"compound_score\": -0.024003715159605452, \"topic\": \"Rising Prices\"}, {\"index\": 72, \"period\": \"2022-10\", \"compound_score\": -0.9840145225340318, \"topic\": \"Rising Prices\"}, {\"index\": 0, \"period\": \"2016-10\", \"compound_score\": -1.4687377350330555, \"topic\": \"Rise in Housing Price\"}, {\"index\": 1, \"period\": \"2016-11\", \"compound_score\": -1.4516231508608317, \"topic\": \"Rise in Housing Price\"}, {\"index\": 2, \"period\": \"2016-12\", \"compound_score\": -1.2803814406502925, \"topic\": \"Rise in Housing Price\"}, {\"index\": 3, \"period\": \"2017-01\", \"compound_score\": -0.3112360745720044, \"topic\": \"Rise in Housing Price\"}, {\"index\": 4, \"period\": \"2017-02\", \"compound_score\": -0.9132708493900897, \"topic\": \"Rise in Housing Price\"}, {\"index\": 5, \"period\": \"2017-03\", \"compound_score\": -0.6009256969439625, \"topic\": \"Rise in Housing Price\"}, {\"index\": 6, \"period\": \"2017-04\", \"compound_score\": -2.4571786005019485, \"topic\": \"Rise in Housing Price\"}, {\"index\": 7, \"period\": \"2017-05\", \"compound_score\": -2.057125900970856, \"topic\": \"Rise in Housing Price\"}, {\"index\": 8, \"period\": \"2017-06\", \"compound_score\": -1.0493252317188781, \"topic\": \"Rise in Housing Price\"}, {\"index\": 9, \"period\": \"2017-07\", \"compound_score\": 0.9664889908609451, \"topic\": \"Rise in Housing Price\"}, {\"index\": 10, \"period\": \"2017-08\", \"compound_score\": -0.21552975744414987, \"topic\": \"Rise in Housing Price\"}, {\"index\": 11, \"period\": \"2017-09\", \"compound_score\": 0.3866372530740294, \"topic\": \"Rise in Housing Price\"}, {\"index\": 12, \"period\": \"2017-10\", \"compound_score\": -1.0765704898024189, \"topic\": \"Rise in Housing Price\"}, {\"index\": 13, \"period\": \"2017-11\", \"compound_score\": 0.20221670291623595, \"topic\": \"Rise in Housing Price\"}, {\"index\": 14, \"period\": \"2017-12\", \"compound_score\": 0.35671820280871736, \"topic\": \"Rise in Housing Price\"}, {\"index\": 15, \"period\": \"2018-01\", \"compound_score\": 2.435157533849066, \"topic\": \"Rise in Housing Price\"}, {\"index\": 16, \"period\": \"2018-02\", \"compound_score\": 0.6898021469157575, \"topic\": \"Rise in Housing Price\"}, {\"index\": 17, \"period\": \"2018-03\", \"compound_score\": 1.9838750025734913, \"topic\": \"Rise in Housing Price\"}, {\"index\": 18, \"period\": \"2018-04\", \"compound_score\": -1.0496006048324917, \"topic\": \"Rise in Housing Price\"}, {\"index\": 19, \"period\": \"2018-05\", \"compound_score\": -0.8590981884535686, \"topic\": \"Rise in Housing Price\"}, {\"index\": 20, \"period\": \"2018-06\", \"compound_score\": -0.843071680992678, \"topic\": \"Rise in Housing Price\"}, {\"index\": 21, \"period\": \"2018-07\", \"compound_score\": -0.44253875307209845, \"topic\": \"Rise in Housing Price\"}, {\"index\": 22, \"period\": \"2018-08\", \"compound_score\": -0.41972829484330504, \"topic\": \"Rise in Housing Price\"}, {\"index\": 23, \"period\": \"2018-09\", \"compound_score\": 0.1672321766813939, \"topic\": \"Rise in Housing Price\"}, {\"index\": 24, \"period\": \"2018-10\", \"compound_score\": 0.12215526418224615, \"topic\": \"Rise in Housing Price\"}, {\"index\": 25, \"period\": \"2018-11\", \"compound_score\": -0.21687428249452323, \"topic\": \"Rise in Housing Price\"}, {\"index\": 26, \"period\": \"2018-12\", \"compound_score\": 0.39068008259339826, \"topic\": \"Rise in Housing Price\"}, {\"index\": 27, \"period\": \"2019-01\", \"compound_score\": 1.0820273468106947, \"topic\": \"Rise in Housing Price\"}, {\"index\": 28, \"period\": \"2019-02\", \"compound_score\": 1.015841845944084, \"topic\": \"Rise in Housing Price\"}, {\"index\": 29, \"period\": \"2019-03\", \"compound_score\": 0.9453268070393087, \"topic\": \"Rise in Housing Price\"}, {\"index\": 30, \"period\": \"2019-04\", \"compound_score\": 1.0665537145139117, \"topic\": \"Rise in Housing Price\"}, {\"index\": 31, \"period\": \"2019-05\", \"compound_score\": 0.547229943556772, \"topic\": \"Rise in Housing Price\"}, {\"index\": 32, \"period\": \"2019-06\", \"compound_score\": 0.8497285243538122, \"topic\": \"Rise in Housing Price\"}, {\"index\": 33, \"period\": \"2019-07\", \"compound_score\": 0.33386889254806784, \"topic\": \"Rise in Housing Price\"}, {\"index\": 34, \"period\": \"2019-08\", \"compound_score\": 0.08175226160943522, \"topic\": \"Rise in Housing Price\"}, {\"index\": 35, \"period\": \"2019-09\", \"compound_score\": 1.6219135070631108, \"topic\": \"Rise in Housing Price\"}, {\"index\": 36, \"period\": \"2019-10\", \"compound_score\": -0.5837517363412692, \"topic\": \"Rise in Housing Price\"}, {\"index\": 37, \"period\": \"2019-11\", \"compound_score\": 0.5469329586132855, \"topic\": \"Rise in Housing Price\"}, {\"index\": 38, \"period\": \"2019-12\", \"compound_score\": 1.1387960757556872, \"topic\": \"Rise in Housing Price\"}, {\"index\": 39, \"period\": \"2020-01\", \"compound_score\": 0.9450223339040674, \"topic\": \"Rise in Housing Price\"}, {\"index\": 40, \"period\": \"2020-02\", \"compound_score\": 0.3141750697962493, \"topic\": \"Rise in Housing Price\"}, {\"index\": 41, \"period\": \"2020-03\", \"compound_score\": 1.094841394910911, \"topic\": \"Rise in Housing Price\"}, {\"index\": 42, \"period\": \"2020-04\", \"compound_score\": 0.3223498401929207, \"topic\": \"Rise in Housing Price\"}, {\"index\": 43, \"period\": \"2020-05\", \"compound_score\": -1.2170999836387275, \"topic\": \"Rise in Housing Price\"}, {\"index\": 44, \"period\": \"2020-06\", \"compound_score\": -0.28344875293150296, \"topic\": \"Rise in Housing Price\"}, {\"index\": 45, \"period\": \"2020-07\", \"compound_score\": 0.40920825383246906, \"topic\": \"Rise in Housing Price\"}, {\"index\": 46, \"period\": \"2020-08\", \"compound_score\": -0.38112562063062244, \"topic\": \"Rise in Housing Price\"}, {\"index\": 47, \"period\": \"2020-09\", \"compound_score\": -1.6820916719217602, \"topic\": \"Rise in Housing Price\"}, {\"index\": 48, \"period\": \"2020-10\", \"compound_score\": -0.8667000367919337, \"topic\": \"Rise in Housing Price\"}, {\"index\": 49, \"period\": \"2020-11\", \"compound_score\": 0.42950635235927376, \"topic\": \"Rise in Housing Price\"}, {\"index\": 50, \"period\": \"2020-12\", \"compound_score\": 1.623501152505816, \"topic\": \"Rise in Housing Price\"}, {\"index\": 51, \"period\": \"2021-01\", \"compound_score\": 1.21696626710038, \"topic\": \"Rise in Housing Price\"}, {\"index\": 52, \"period\": \"2021-02\", \"compound_score\": -0.35920170011109315, \"topic\": \"Rise in Housing Price\"}, {\"index\": 53, \"period\": \"2021-03\", \"compound_score\": -0.449327538108538, \"topic\": \"Rise in Housing Price\"}, {\"index\": 54, \"period\": \"2021-04\", \"compound_score\": 0.6060745900837466, \"topic\": \"Rise in Housing Price\"}, {\"index\": 55, \"period\": \"2021-05\", \"compound_score\": 1.3380212944034624, \"topic\": \"Rise in Housing Price\"}, {\"index\": 56, \"period\": \"2021-06\", \"compound_score\": 0.22061133292378815, \"topic\": \"Rise in Housing Price\"}, {\"index\": 57, \"period\": \"2021-07\", \"compound_score\": -0.5575647101780522, \"topic\": \"Rise in Housing Price\"}, {\"index\": 58, \"period\": \"2021-08\", \"compound_score\": -2.0311830989197017, \"topic\": \"Rise in Housing Price\"}, {\"index\": 59, \"period\": \"2021-09\", \"compound_score\": -0.14851639765193833, \"topic\": \"Rise in Housing Price\"}, {\"index\": 60, \"period\": \"2021-10\", \"compound_score\": 0.8767039930506519, \"topic\": \"Rise in Housing Price\"}, {\"index\": 61, \"period\": \"2021-11\", \"compound_score\": -0.001502487451701199, \"topic\": \"Rise in Housing Price\"}, {\"index\": 62, \"period\": \"2021-12\", \"compound_score\": 0.6517848388918026, \"topic\": \"Rise in Housing Price\"}, {\"index\": 63, \"period\": \"2022-01\", \"compound_score\": -0.8294417016319969, \"topic\": \"Rise in Housing Price\"}, {\"index\": 64, \"period\": \"2022-02\", \"compound_score\": 0.3163181708553529, \"topic\": \"Rise in Housing Price\"}, {\"index\": 65, \"period\": \"2022-03\", \"compound_score\": 0.12111718568062563, \"topic\": \"Rise in Housing Price\"}, {\"index\": 66, \"period\": \"2022-04\", \"compound_score\": -0.6788376215033687, \"topic\": \"Rise in Housing Price\"}, {\"index\": 67, \"period\": \"2022-05\", \"compound_score\": 1.1898464520352878, \"topic\": \"Rise in Housing Price\"}, {\"index\": 68, \"period\": \"2022-06\", \"compound_score\": -0.9595623849519844, \"topic\": \"Rise in Housing Price\"}, {\"index\": 69, \"period\": \"2022-07\", \"compound_score\": -0.34496336990647464, \"topic\": \"Rise in Housing Price\"}, {\"index\": 70, \"period\": \"2022-08\", \"compound_score\": -1.7785804693104734, \"topic\": \"Rise in Housing Price\"}, {\"index\": 71, \"period\": \"2022-09\", \"compound_score\": 1.1836384629016619, \"topic\": \"Rise in Housing Price\"}, {\"index\": 72, \"period\": \"2022-10\", \"compound_score\": 0.07509379486637312, \"topic\": \"Rise in Housing Price\"}, {\"index\": 0, \"period\": \"2016-10\", \"compound_score\": -0.8623530869827273, \"topic\": \"inflation\"}, {\"index\": 1, \"period\": \"2016-11\", \"compound_score\": 0.27811640075506966, \"topic\": \"inflation\"}, {\"index\": 2, \"period\": \"2016-12\", \"compound_score\": -0.1271816226526876, \"topic\": \"inflation\"}, {\"index\": 3, \"period\": \"2017-01\", \"compound_score\": 0.02267167366469702, \"topic\": \"inflation\"}, {\"index\": 4, \"period\": \"2017-02\", \"compound_score\": 0.019017106763044012, \"topic\": \"inflation\"}, {\"index\": 5, \"period\": \"2017-03\", \"compound_score\": 0.08004746922607914, \"topic\": \"inflation\"}, {\"index\": 6, \"period\": \"2017-04\", \"compound_score\": 0.2281556834904931, \"topic\": \"inflation\"}, {\"index\": 7, \"period\": \"2017-05\", \"compound_score\": 0.03506500933836049, \"topic\": \"inflation\"}, {\"index\": 8, \"period\": \"2017-06\", \"compound_score\": -0.5585448976566464, \"topic\": \"inflation\"}, {\"index\": 9, \"period\": \"2017-07\", \"compound_score\": -0.6823416188763656, \"topic\": \"inflation\"}, {\"index\": 10, \"period\": \"2017-08\", \"compound_score\": -0.9825631135947368, \"topic\": \"inflation\"}, {\"index\": 11, \"period\": \"2017-09\", \"compound_score\": -0.20237130535126974, \"topic\": \"inflation\"}, {\"index\": 12, \"period\": \"2017-10\", \"compound_score\": 0.16953743306936256, \"topic\": \"inflation\"}, {\"index\": 13, \"period\": \"2017-11\", \"compound_score\": -0.009062869807339608, \"topic\": \"inflation\"}, {\"index\": 14, \"period\": \"2017-12\", \"compound_score\": 0.7378417599815528, \"topic\": \"inflation\"}, {\"index\": 15, \"period\": \"2018-01\", \"compound_score\": 0.658546397182722, \"topic\": \"inflation\"}, {\"index\": 16, \"period\": \"2018-02\", \"compound_score\": 0.19234103398551966, \"topic\": \"inflation\"}, {\"index\": 17, \"period\": \"2018-03\", \"compound_score\": 0.7175781695698966, \"topic\": \"inflation\"}, {\"index\": 18, \"period\": \"2018-04\", \"compound_score\": 0.6629606625815179, \"topic\": \"inflation\"}, {\"index\": 19, \"period\": \"2018-05\", \"compound_score\": 0.3250332223527661, \"topic\": \"inflation\"}, {\"index\": 20, \"period\": \"2018-06\", \"compound_score\": 0.7026455597595035, \"topic\": \"inflation\"}, {\"index\": 21, \"period\": \"2018-07\", \"compound_score\": 0.6555031762403417, \"topic\": \"inflation\"}, {\"index\": 22, \"period\": \"2018-08\", \"compound_score\": 0.5041757850835864, \"topic\": \"inflation\"}, {\"index\": 23, \"period\": \"2018-09\", \"compound_score\": 0.2924469262358684, \"topic\": \"inflation\"}, {\"index\": 24, \"period\": \"2018-10\", \"compound_score\": 0.30498715192677606, \"topic\": \"inflation\"}, {\"index\": 25, \"period\": \"2018-11\", \"compound_score\": 0.7627070204484413, \"topic\": \"inflation\"}, {\"index\": 26, \"period\": \"2018-12\", \"compound_score\": 0.5584474934952804, \"topic\": \"inflation\"}, {\"index\": 27, \"period\": \"2019-01\", \"compound_score\": 0.6437304175271878, \"topic\": \"inflation\"}, {\"index\": 28, \"period\": \"2019-02\", \"compound_score\": 1.0860628655173936, \"topic\": \"inflation\"}, {\"index\": 29, \"period\": \"2019-03\", \"compound_score\": 0.9040374129365195, \"topic\": \"inflation\"}, {\"index\": 30, \"period\": \"2019-04\", \"compound_score\": 0.6304137873695508, \"topic\": \"inflation\"}, {\"index\": 31, \"period\": \"2019-05\", \"compound_score\": 0.2694700248970573, \"topic\": \"inflation\"}, {\"index\": 32, \"period\": \"2019-06\", \"compound_score\": 0.6769520698187745, \"topic\": \"inflation\"}, {\"index\": 33, \"period\": \"2019-07\", \"compound_score\": 1.590700898454192, \"topic\": \"inflation\"}, {\"index\": 34, \"period\": \"2019-08\", \"compound_score\": 0.25837178676299993, \"topic\": \"inflation\"}, {\"index\": 35, \"period\": \"2019-09\", \"compound_score\": 0.45911827556148405, \"topic\": \"inflation\"}, {\"index\": 36, \"period\": \"2019-10\", \"compound_score\": 0.5703619520459339, \"topic\": \"inflation\"}, {\"index\": 37, \"period\": \"2019-11\", \"compound_score\": 0.8672448535918424, \"topic\": \"inflation\"}, {\"index\": 38, \"period\": \"2019-12\", \"compound_score\": 0.4858974641485365, \"topic\": \"inflation\"}, {\"index\": 39, \"period\": \"2020-01\", \"compound_score\": 0.7167629085691221, \"topic\": \"inflation\"}, {\"index\": 40, \"period\": \"2020-02\", \"compound_score\": 1.24998806563372, \"topic\": \"inflation\"}, {\"index\": 41, \"period\": \"2020-03\", \"compound_score\": -0.025163519727170666, \"topic\": \"inflation\"}, {\"index\": 42, \"period\": \"2020-04\", \"compound_score\": -0.03428841327115933, \"topic\": \"inflation\"}, {\"index\": 43, \"period\": \"2020-05\", \"compound_score\": 0.09509566453042506, \"topic\": \"inflation\"}, {\"index\": 44, \"period\": \"2020-06\", \"compound_score\": 0.02232112104858423, \"topic\": \"inflation\"}, {\"index\": 45, \"period\": \"2020-07\", \"compound_score\": 0.5764173756073825, \"topic\": \"inflation\"}, {\"index\": 46, \"period\": \"2020-08\", \"compound_score\": 0.9599744830214256, \"topic\": \"inflation\"}, {\"index\": 47, \"period\": \"2020-09\", \"compound_score\": 0.6326239262926212, \"topic\": \"inflation\"}, {\"index\": 48, \"period\": \"2020-10\", \"compound_score\": 1.0249610275144345, \"topic\": \"inflation\"}, {\"index\": 49, \"period\": \"2020-11\", \"compound_score\": 0.9598926883766741, \"topic\": \"inflation\"}, {\"index\": 50, \"period\": \"2020-12\", \"compound_score\": 1.14154466420836, \"topic\": \"inflation\"}, {\"index\": 51, \"period\": \"2021-01\", \"compound_score\": 1.434089482919655, \"topic\": \"inflation\"}, {\"index\": 52, \"period\": \"2021-02\", \"compound_score\": 0.7911045639918077, \"topic\": \"inflation\"}, {\"index\": 53, \"period\": \"2021-03\", \"compound_score\": 0.8680746343365816, \"topic\": \"inflation\"}, {\"index\": 54, \"period\": \"2021-04\", \"compound_score\": 1.2817124608023065, \"topic\": \"inflation\"}, {\"index\": 55, \"period\": \"2021-05\", \"compound_score\": -0.33511404381687776, \"topic\": \"inflation\"}, {\"index\": 56, \"period\": \"2021-06\", \"compound_score\": 0.1313663063136999, \"topic\": \"inflation\"}, {\"index\": 57, \"period\": \"2021-07\", \"compound_score\": -0.15709043563239566, \"topic\": \"inflation\"}, {\"index\": 58, \"period\": \"2021-08\", \"compound_score\": -0.8242887408643005, \"topic\": \"inflation\"}, {\"index\": 59, \"period\": \"2021-09\", \"compound_score\": -0.9133989464380543, \"topic\": \"inflation\"}, {\"index\": 60, \"period\": \"2021-10\", \"compound_score\": -1.1200880293298294, \"topic\": \"inflation\"}, {\"index\": 61, \"period\": \"2021-11\", \"compound_score\": -0.6260099052681116, \"topic\": \"inflation\"}, {\"index\": 62, \"period\": \"2021-12\", \"compound_score\": -0.8624075947778068, \"topic\": \"inflation\"}, {\"index\": 63, \"period\": \"2022-01\", \"compound_score\": -1.1053956747087657, \"topic\": \"inflation\"}, {\"index\": 64, \"period\": \"2022-02\", \"compound_score\": -1.5223964709750302, \"topic\": \"inflation\"}, {\"index\": 65, \"period\": \"2022-03\", \"compound_score\": -2.2790122980570957, \"topic\": \"inflation\"}, {\"index\": 66, \"period\": \"2022-04\", \"compound_score\": -1.9297650830354491, \"topic\": \"inflation\"}, {\"index\": 67, \"period\": \"2022-05\", \"compound_score\": -2.29032241857599, \"topic\": \"inflation\"}, {\"index\": 68, \"period\": \"2022-06\", \"compound_score\": -2.7429827338138555, \"topic\": \"inflation\"}, {\"index\": 69, \"period\": \"2022-07\", \"compound_score\": -2.174348367605959, \"topic\": \"inflation\"}, {\"index\": 70, \"period\": \"2022-08\", \"compound_score\": -1.1934394435174636, \"topic\": \"inflation\"}, {\"index\": 71, \"period\": \"2022-09\", \"compound_score\": -2.201042211160997, \"topic\": \"inflation\"}, {\"index\": 72, \"period\": \"2022-10\", \"compound_score\": -2.4751434714510667, \"topic\": \"inflation\"}]}}, {\"mode\": \"vega-lite\"});\n",
       "</script>"
      ],
      "text/plain": [
       "alt.Chart(...)"
      ]
     },
     "execution_count": 143,
     "metadata": {},
     "output_type": "execute_result"
    }
   ],
   "source": [
    "alt.Chart(new_inflation_rise_house).mark_line().encode(\n",
    "    x = alt.X('period:O', axis=alt.Axis(title='Time')),\n",
    "    y = alt.Y('compound_score', axis=alt.Axis(title='Average compound sentiment score'), scale=alt.Scale(domain=[-5,5])),\n",
    "    color=alt.Color('topic:N')\n",
    ").properties(width=800, title={\n",
    "      \"text\": ['Average global score sentiment over the months (2016-2022)'], \n",
    "      \"subtitle\": [\"Standardized to Mean of 0 and Variance of 1\"],\n",
    "    })\n",
    "    "
   ]
  },
  {
   "cell_type": "markdown",
   "id": "885c136d",
   "metadata": {},
   "source": [
    "X_std = np.array(new_inflation_rise_house['compound_score'].values.tolist())\n",
    "X_std = X_std.reshape(-1, 1)\n",
    "\n",
    "\n",
    "K = 5\n",
    "pca = PCA(n_components=K).fit(X_std)\n",
    "\n",
    "# Did a scree plot just out of interest of what we were getting by limiting to 8 principal components\n",
    "PC_indices = np.arange(K) + 1\n",
    "plt.plot(PC_indices, pca.explained_variance_ratio_, 'o-', linewidth=2, color='blue')\n",
    "plt.title('Scree Plot')\n",
    "plt.xlabel('Principal Component')\n",
    "plt.ylabel('Variance Explained')\n",
    "plt.show()"
   ]
  },
  {
   "cell_type": "code",
   "execution_count": 144,
   "id": "8b8a0721",
   "metadata": {},
   "outputs": [],
   "source": [
    "new_rise_price_g2 = rise_price_g.copy()\n",
    "new_house_price_g2 = house_price_g.copy()\n",
    "new_inflation_sent_g2 = inflation_sent_g.copy()\n",
    "\n",
    "new_rise_price_g2.rename(columns = {'compound_score':'new_rise_price_g'}, inplace = True)\n",
    "new_house_price_g2.rename(columns = {'compound_score':'new_house_price_g'}, inplace = True)\n",
    "new_inflation_sent_g2.rename(columns = {'compound_score':'new_inflation_sent_g'}, inplace = True)\n",
    "\n",
    "df = None\n",
    "df = pd.concat([new_rise_price_g2, new_house_price_g2, new_inflation_sent_g2], axis=1).reset_index()"
   ]
  },
  {
   "cell_type": "code",
   "execution_count": 145,
   "id": "b278a0be",
   "metadata": {},
   "outputs": [],
   "source": [
    "df = df.drop(columns=['period'])\n",
    "df = df.drop(columns=['topic'])"
   ]
  },
  {
   "cell_type": "code",
   "execution_count": 146,
   "id": "29d05011",
   "metadata": {},
   "outputs": [],
   "source": [
    "df = df.drop(columns=['index'])"
   ]
  },
  {
   "cell_type": "code",
   "execution_count": 147,
   "id": "bce83141",
   "metadata": {},
   "outputs": [
    {
     "data": {
      "text/html": [
       "<div>\n",
       "<style scoped>\n",
       "    .dataframe tbody tr th:only-of-type {\n",
       "        vertical-align: middle;\n",
       "    }\n",
       "\n",
       "    .dataframe tbody tr th {\n",
       "        vertical-align: top;\n",
       "    }\n",
       "\n",
       "    .dataframe thead th {\n",
       "        text-align: right;\n",
       "    }\n",
       "</style>\n",
       "<table border=\"1\" class=\"dataframe\">\n",
       "  <thead>\n",
       "    <tr style=\"text-align: right;\">\n",
       "      <th></th>\n",
       "      <th>new_rise_price_g</th>\n",
       "      <th>new_house_price_g</th>\n",
       "      <th>new_inflation_sent_g</th>\n",
       "    </tr>\n",
       "  </thead>\n",
       "  <tbody>\n",
       "    <tr>\n",
       "      <th>0</th>\n",
       "      <td>0.018129</td>\n",
       "      <td>0.144682</td>\n",
       "      <td>-0.014264</td>\n",
       "    </tr>\n",
       "    <tr>\n",
       "      <th>1</th>\n",
       "      <td>0.059639</td>\n",
       "      <td>0.145562</td>\n",
       "      <td>0.018277</td>\n",
       "    </tr>\n",
       "    <tr>\n",
       "      <th>2</th>\n",
       "      <td>0.048089</td>\n",
       "      <td>0.154365</td>\n",
       "      <td>0.006713</td>\n",
       "    </tr>\n",
       "    <tr>\n",
       "      <th>3</th>\n",
       "      <td>0.037580</td>\n",
       "      <td>0.204183</td>\n",
       "      <td>0.010989</td>\n",
       "    </tr>\n",
       "    <tr>\n",
       "      <th>4</th>\n",
       "      <td>0.145955</td>\n",
       "      <td>0.173236</td>\n",
       "      <td>0.010885</td>\n",
       "    </tr>\n",
       "    <tr>\n",
       "      <th>...</th>\n",
       "      <td>...</td>\n",
       "      <td>...</td>\n",
       "      <td>...</td>\n",
       "    </tr>\n",
       "    <tr>\n",
       "      <th>68</th>\n",
       "      <td>0.035724</td>\n",
       "      <td>0.170856</td>\n",
       "      <td>-0.067924</td>\n",
       "    </tr>\n",
       "    <tr>\n",
       "      <th>69</th>\n",
       "      <td>0.061807</td>\n",
       "      <td>0.202450</td>\n",
       "      <td>-0.051699</td>\n",
       "    </tr>\n",
       "    <tr>\n",
       "      <th>70</th>\n",
       "      <td>0.098455</td>\n",
       "      <td>0.128755</td>\n",
       "      <td>-0.023711</td>\n",
       "    </tr>\n",
       "    <tr>\n",
       "      <th>71</th>\n",
       "      <td>0.089582</td>\n",
       "      <td>0.281027</td>\n",
       "      <td>-0.052461</td>\n",
       "    </tr>\n",
       "    <tr>\n",
       "      <th>72</th>\n",
       "      <td>0.050677</td>\n",
       "      <td>0.224043</td>\n",
       "      <td>-0.060282</td>\n",
       "    </tr>\n",
       "  </tbody>\n",
       "</table>\n",
       "<p>73 rows × 3 columns</p>\n",
       "</div>"
      ],
      "text/plain": [
       "    new_rise_price_g  new_house_price_g  new_inflation_sent_g\n",
       "0           0.018129           0.144682             -0.014264\n",
       "1           0.059639           0.145562              0.018277\n",
       "2           0.048089           0.154365              0.006713\n",
       "3           0.037580           0.204183              0.010989\n",
       "4           0.145955           0.173236              0.010885\n",
       "..               ...                ...                   ...\n",
       "68          0.035724           0.170856             -0.067924\n",
       "69          0.061807           0.202450             -0.051699\n",
       "70          0.098455           0.128755             -0.023711\n",
       "71          0.089582           0.281027             -0.052461\n",
       "72          0.050677           0.224043             -0.060282\n",
       "\n",
       "[73 rows x 3 columns]"
      ]
     },
     "execution_count": 147,
     "metadata": {},
     "output_type": "execute_result"
    }
   ],
   "source": [
    "df"
   ]
  },
  {
   "cell_type": "code",
   "execution_count": 148,
   "id": "7b4ea77e",
   "metadata": {},
   "outputs": [
    {
     "data": {
      "text/html": [
       "<div>\n",
       "<style scoped>\n",
       "    .dataframe tbody tr th:only-of-type {\n",
       "        vertical-align: middle;\n",
       "    }\n",
       "\n",
       "    .dataframe tbody tr th {\n",
       "        vertical-align: top;\n",
       "    }\n",
       "\n",
       "    .dataframe thead th {\n",
       "        text-align: right;\n",
       "    }\n",
       "</style>\n",
       "<table border=\"1\" class=\"dataframe\">\n",
       "  <thead>\n",
       "    <tr style=\"text-align: right;\">\n",
       "      <th></th>\n",
       "      <th>new_rise_price_g</th>\n",
       "      <th>new_house_price_g</th>\n",
       "      <th>new_inflation_sent_g</th>\n",
       "    </tr>\n",
       "  </thead>\n",
       "  <tbody>\n",
       "    <tr>\n",
       "      <th>new_rise_price_g</th>\n",
       "      <td>1.000000</td>\n",
       "      <td>0.541693</td>\n",
       "      <td>0.492205</td>\n",
       "    </tr>\n",
       "    <tr>\n",
       "      <th>new_house_price_g</th>\n",
       "      <td>0.541693</td>\n",
       "      <td>1.000000</td>\n",
       "      <td>0.165250</td>\n",
       "    </tr>\n",
       "    <tr>\n",
       "      <th>new_inflation_sent_g</th>\n",
       "      <td>0.492205</td>\n",
       "      <td>0.165250</td>\n",
       "      <td>1.000000</td>\n",
       "    </tr>\n",
       "  </tbody>\n",
       "</table>\n",
       "</div>"
      ],
      "text/plain": [
       "                      new_rise_price_g  new_house_price_g  \\\n",
       "new_rise_price_g              1.000000           0.541693   \n",
       "new_house_price_g             0.541693           1.000000   \n",
       "new_inflation_sent_g          0.492205           0.165250   \n",
       "\n",
       "                      new_inflation_sent_g  \n",
       "new_rise_price_g                  0.492205  \n",
       "new_house_price_g                 0.165250  \n",
       "new_inflation_sent_g              1.000000  "
      ]
     },
     "execution_count": 148,
     "metadata": {},
     "output_type": "execute_result"
    }
   ],
   "source": [
    "df.corr()"
   ]
  },
  {
   "cell_type": "code",
   "execution_count": null,
   "id": "816b188d",
   "metadata": {},
   "outputs": [],
   "source": []
  }
 ],
 "metadata": {
  "kernelspec": {
   "display_name": "Python 3 (ipykernel)",
   "language": "python",
   "name": "python3"
  },
  "language_info": {
   "codemirror_mode": {
    "name": "ipython",
    "version": 3
   },
   "file_extension": ".py",
   "mimetype": "text/x-python",
   "name": "python",
   "nbconvert_exporter": "python",
   "pygments_lexer": "ipython3",
   "version": "3.7.1"
  }
 },
 "nbformat": 4,
 "nbformat_minor": 5
}
